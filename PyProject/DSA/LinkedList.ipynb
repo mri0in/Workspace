{
 "cells": [
  {
   "cell_type": "code",
   "execution_count": 5,
   "metadata": {},
   "outputs": [],
   "source": [
    "\n",
    "class Node:\n",
    "    def __init__(self, value): \n",
    "        self.data = value\n",
    "        self.nxtaddress = None\n",
    "    # end alternate constructor"
   ]
  },
  {
   "cell_type": "code",
   "execution_count": 70,
   "metadata": {},
   "outputs": [
    {
     "name": "stdout",
     "output_type": "stream",
     "text": [
      "<__main__.Node object at 0x000002A66BF416D0>\n"
     ]
    }
   ],
   "source": [
    "a = Node(1)\n",
    "print(a)\n"
   ]
  },
  {
   "cell_type": "code",
   "execution_count": 64,
   "metadata": {},
   "outputs": [],
   "source": [
    "class LinkedList:\n",
    "    def __init__(self):\n",
    "        # Empty Linked list\n",
    "        self.head = None\n",
    "        # No. of nodes\n",
    "        self.nodes = 0\n",
    "\n",
    "    def __len__(self):\n",
    "        return self.nodes\n",
    "    \n",
    "    def insert_head(self,value):\n",
    "        # create a new node\n",
    "        new_node = Node(value)\n",
    "        # create connection\n",
    "        new_node.nxtaddress = self.head \n",
    "        # assign the node nxtaddress to new head nxtaddress of LL\n",
    "        self.head = new_node\n",
    "        # increament nodes no.\n",
    "        self.nodes = self.nodes + 1\n",
    "\n",
    "    def traverse(self):\n",
    "        curr = self.head\n",
    "        while curr != None:\n",
    "            print(curr.data,\" \",end='')\n",
    "            curr = curr.nxtaddress\n",
    "\n",
    "    def __str__(self):\n",
    "        curr = self.head\n",
    "        result = ' '\n",
    "        while curr != None:\n",
    "            result = result + str(curr.data) + '->'\n",
    "            curr = curr.nxtaddress\n",
    "\n",
    "        return result[:-2]\n",
    "    \n",
    "    def append(self, value):\n",
    "        new_node = Node(value)\n",
    "        \n",
    "        # If list is empty\n",
    "        if self.head == None:\n",
    "            self.head = new_node\n",
    "            self.nodes = self.nodes +1\n",
    "            return\n",
    "        \n",
    "        curr = self.head\n",
    "        while curr.nxtaddress != None:\n",
    "            curr = curr.nxtaddress\n",
    "        # The current nxtaddress id of the last node i.e tail.\n",
    "        curr.nxtaddress = new_node\n",
    "        self.nodes = self.nodes + 1\n",
    "\n",
    "    def insert_after(self,after,value):\n",
    "        new_node = Node(value)\n",
    "\n",
    "        curr = self.head\n",
    "        while curr != None:\n",
    "            if curr.data == after:\n",
    "                break\n",
    "            curr = curr.nxtaddress\n",
    "        if curr!=None:\n",
    "            new_node.nxtaddress = curr.nxtaddress\n",
    "            curr.nxtaddress = new_node\n",
    "            self.nodes = self.nodes +1\n",
    "        else:\n",
    "            return 'Item not found'\n",
    "        \n",
    "    def clear(self):\n",
    "        self.head = None\n",
    "        self.nodes = 0\n",
    "\n",
    "    def delete_head(self):\n",
    "        if self.head == None:\n",
    "            return 'Empty List!'\n",
    "        self.head = self.head.nxtaddress\n",
    "        self.nodes = self.nodes-1 \n",
    "\n",
    "    def pop(self):\n",
    "        # when LinkedList have no Item \n",
    "        if self.head == None:\n",
    "            return 'Empty List'\n",
    "        curr = self.head\n",
    "        \n",
    "        # when LinkedList have only one Item (i.e Head)\n",
    "        if curr.nxtaddress == None:\n",
    "            return self.delete_head()\n",
    "\n",
    "        # Reaching upto secondlast list and storing it's address to 'curr'.\n",
    "        while curr.nxtaddress.nxtaddress != None:\n",
    "            # transversing the control through the list\n",
    "            curr = curr.nxtaddress\n",
    "        # Making the last address to NONE \n",
    "        curr.nxtaddress = None   \n",
    "        self.nodes = self.nodes-1\n",
    "\n",
    "    def remove(self, value):\n",
    "        if self.head == None:\n",
    "            return 'Empty LinkedList'\n",
    "        \n",
    "        # When Value to be deleted is Head itself \n",
    "        if self.head.data == value:\n",
    "            return self.delete_head()\n",
    "\n",
    "        curr = self.head\n",
    "        while curr.nxtaddress != None:\n",
    "            if curr.nxtaddress.data == value:\n",
    "                break\n",
    "            curr = curr.nxtaddress\n",
    "        if curr.nxtaddress == None:\n",
    "            return 'Value Not found in the List'  \n",
    "        else:\n",
    "            curr.nxtaddress = curr.nxtaddress.nxtaddress \n",
    "\n",
    "    def search(self,item):\n",
    "        # search method returns the Index no. of the Value\n",
    "        curr = self.head\n",
    "        pos = 0\n",
    "        while curr!= None:\n",
    "            if curr.data == item:\n",
    "                return pos\n",
    "            curr = curr.nxtaddress\n",
    "            pos = pos + 1\n",
    "        return 'Item not found'    \n",
    "    \n",
    "    def __getitem__(self,index):\n",
    "        curr = self.head\n",
    "        pos = 0\n",
    "        while curr!= None:\n",
    "            if pos == index:\n",
    "                return curr.data\n",
    "            curr = curr.nxtaddress\n",
    "            pos = pos + 1\n",
    "        return 'IndexError'\n",
    "# -----------------------------------------------------Linked List questions---------------------------\n",
    "    #Question 1: Find max value in a linked list and replace it with another value.\n",
    "    def replace_max(self, value):\n",
    "        temp = self.head\n",
    "        max_val = temp\n",
    "        while temp!=None:\n",
    "            if temp.data>max_val.data:\n",
    "                max_val=temp\n",
    "            temp = temp.nxtaddress\n",
    "        max_val.data = value\n",
    "\n",
    "    #Question 2: Add all the values of a linked list at odd position\n",
    "    def sum_odd_nodes(self):\n",
    "        curr = self.head\n",
    "        sum = 0\n",
    "        while curr!=None:\n",
    "            sum = sum + curr.data\n",
    "            curr = curr.nxtaddress.nxtaddress\n",
    "        return sum\n",
    "    \n",
    "    def reverse(self):\n",
    "        prev_node = None\n",
    "        curr_node = self.head\n",
    "        while curr_node!= None:\n",
    "            # reverse the forward connection\n",
    "            nxt_node = curr_node.nxtaddress  ;'''save the original Next node'''\n",
    "            curr_node.nxtaddress = prev_node;'''Thenafter Equate the current_Next node of Normal LL as the prev node  for reversed List.'''\n",
    "            # shift the node according to final(reverse) LL.\n",
    "            prev_node = curr_node\n",
    "            curr_node = nxt_node\n",
    "        self.head  = prev_node\n",
    "\n",
    "        \n",
    "\n",
    "\n",
    "\n",
    "\n",
    "\n",
    "\n"
   ]
  },
  {
   "cell_type": "code",
   "execution_count": 65,
   "metadata": {},
   "outputs": [],
   "source": [
    "l =LinkedList()"
   ]
  },
  {
   "cell_type": "code",
   "execution_count": 66,
   "metadata": {},
   "outputs": [],
   "source": [
    "l.insert_head(23)\n",
    "l.insert_head(90)\n",
    "l.insert_head(67)\n",
    "l.insert_head(15)"
   ]
  },
  {
   "cell_type": "code",
   "execution_count": 12,
   "metadata": {},
   "outputs": [
    {
     "name": "stdout",
     "output_type": "stream",
     "text": [
      " 15->67->90->23\n"
     ]
    }
   ],
   "source": [
    "print(l)"
   ]
  },
  {
   "cell_type": "code",
   "execution_count": 69,
   "metadata": {},
   "outputs": [
    {
     "name": "stdout",
     "output_type": "stream",
     "text": [
      "23  90  67  15  "
     ]
    }
   ],
   "source": [
    "l.traverse()"
   ]
  }
 ],
 "metadata": {
  "kernelspec": {
   "display_name": "Python 3",
   "language": "python",
   "name": "python3"
  },
  "language_info": {
   "codemirror_mode": {
    "name": "ipython",
    "version": 3
   },
   "file_extension": ".py",
   "mimetype": "text/x-python",
   "name": "python",
   "nbconvert_exporter": "python",
   "pygments_lexer": "ipython3",
   "version": "3.11.4"
  },
  "orig_nbformat": 4
 },
 "nbformat": 4,
 "nbformat_minor": 2
}
