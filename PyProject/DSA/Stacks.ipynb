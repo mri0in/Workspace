{
 "cells": [
  {
   "cell_type": "code",
   "execution_count": 20,
   "metadata": {},
   "outputs": [],
   "source": [
    "class Node:\n",
    "    def __init__(self, value):\n",
    "        self.data = value\n",
    "        self.nxtaddress = None"
   ]
  },
  {
   "cell_type": "code",
   "execution_count": 69,
   "metadata": {},
   "outputs": [],
   "source": [
    "class Stack:\n",
    "    def __init__(self):\n",
    "        self.top = None\n",
    "        self.size = 0\n",
    "    \n",
    "    def isEmpty(self):\n",
    "        return self.top == None\n",
    "    \n",
    "    def sizeOf(self):\n",
    "        return self.size\n",
    "    \n",
    "    def push(self, value):\n",
    "        new_node = Node(value)\n",
    "        new_node.nxtaddress = self.top\n",
    "        self.top = new_node\n",
    "        self.size +=1\n",
    "\n",
    "    def traverse(self):\n",
    "        curr = self.top\n",
    "        while curr != None:\n",
    "            print(curr.data,'', end='')\n",
    "            curr = curr.nxtaddress\n",
    "\n",
    "    def peek(self):\n",
    "        if(self.isEmpty()):\n",
    "            return 'Stack is Empty.'\n",
    "        else:\n",
    "            return self.top.data\n",
    "        \n",
    "    def pop(self):\n",
    "        if(self.isEmpty()):\n",
    "            return 'Stack is Empty.'\n",
    "        else:\n",
    "            data = self.top.data\n",
    "            self.top = self.top.nxtaddress\n",
    "            self.size -=1\n",
    "            return data\n",
    "        \n",
    "    \n",
    "   \n",
    "\n"
   ]
  },
  {
   "cell_type": "code",
   "execution_count": 70,
   "metadata": {},
   "outputs": [],
   "source": [
    "s = Stack()"
   ]
  },
  {
   "cell_type": "code",
   "execution_count": 71,
   "metadata": {},
   "outputs": [],
   "source": [
    "s.push(4)\n",
    "s.push(3)\n",
    "s.push(2)\n",
    "s.push(1)"
   ]
  },
  {
   "cell_type": "code",
   "execution_count": 72,
   "metadata": {},
   "outputs": [
    {
     "data": {
      "text/plain": [
       "4"
      ]
     },
     "execution_count": 72,
     "metadata": {},
     "output_type": "execute_result"
    }
   ],
   "source": [
    "s.sizeOf()"
   ]
  },
  {
   "cell_type": "code",
   "execution_count": 15,
   "metadata": {},
   "outputs": [],
   "source": [
    "def reverse_string(text):\n",
    "        s = Stack()\n",
    "        for i in text:\n",
    "            s.push(i)\n",
    "        result = ' '\n",
    "        while(not s.isEmpty()):\n",
    "            result = result + s.pop()\n",
    "        print (result)    \n",
    "\n"
   ]
  },
  {
   "cell_type": "code",
   "execution_count": 17,
   "metadata": {},
   "outputs": [
    {
     "name": "stdout",
     "output_type": "stream",
     "text": [
      " arbaDaKarbA\n"
     ]
    }
   ],
   "source": [
    "reverse_string('AbraKaDabra')"
   ]
  },
  {
   "cell_type": "code",
   "execution_count": 43,
   "metadata": {},
   "outputs": [],
   "source": [
    "''' perform UNDO and ReDO on a given Text(string)'''\n",
    "def text_editor(text,pattern):\n",
    "    stack_text = Stack()\n",
    "    stack_edited = Stack()\n",
    "    result = ''\n",
    "    for i in text:\n",
    "        stack_text.push(i)\n",
    "    for i in pattern:\n",
    "        if i == 'u':\n",
    "            data = stack_text.pop()\n",
    "            stack_edited.push(data)\n",
    "        elif i == 'r':\n",
    "            data = stack_edited.pop()\n",
    "            stack_text.push(data)\n",
    "        else:\n",
    "            print('Invalid command')\n",
    "    while(not stack_text.isEmpty()):\n",
    "        result = stack_text.pop() + result\n",
    "    print(result)\n"
   ]
  },
  {
   "cell_type": "code",
   "execution_count": 46,
   "metadata": {},
   "outputs": [
    {
     "name": "stdout",
     "output_type": "stream",
     "text": [
      "Kol\n"
     ]
    }
   ],
   "source": [
    "text = 'Kolkata'\n",
    "pattern = 'uuuu'\n",
    "text_editor(text,pattern)"
   ]
  }
 ],
 "metadata": {
  "kernelspec": {
   "display_name": "Python 3",
   "language": "python",
   "name": "python3"
  },
  "language_info": {
   "codemirror_mode": {
    "name": "ipython",
    "version": 3
   },
   "file_extension": ".py",
   "mimetype": "text/x-python",
   "name": "python",
   "nbconvert_exporter": "python",
   "pygments_lexer": "ipython3",
   "version": "3.11.4"
  },
  "orig_nbformat": 4
 },
 "nbformat": 4,
 "nbformat_minor": 2
}
