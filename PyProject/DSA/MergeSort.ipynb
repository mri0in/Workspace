{
 "cells": [
  {
   "cell_type": "code",
   "execution_count": 28,
   "metadata": {},
   "outputs": [],
   "source": [
    "def merge_sorted_helper(arr1,arr2):\n",
    "    # This Function Merges the two sorted array\n",
    "    i=j=0\n",
    "    merged = []\n",
    "    while i<len(arr1) and j<len(arr2):\n",
    "        if arr1[i]<arr2[j]:\n",
    "            merged.append(arr1[i])\n",
    "            i+=1 \n",
    "        else:\n",
    "            merged.append(arr2[j])\n",
    "            j+=1\n",
    "    # here i and j are not zero, so leftover items of array will be merged into sorted array\n",
    "    while i < len(arr1):\n",
    "        merged.append(arr1[i])\n",
    "        i+=1\n",
    "    while j < len(arr2):\n",
    "        merged.append(arr1[j])\n",
    "        j+=1\n",
    "    return merged\n"
   ]
  },
  {
   "cell_type": "code",
   "execution_count": 23,
   "metadata": {},
   "outputs": [],
   "source": [
    "def merge_sort(arr):\n",
    "    if len(arr) == 1:\n",
    "        return arr\n",
    "    \n",
    "    mid = len(arr)//2\n",
    "    \n",
    "    left_arr = arr[ :mid]\n",
    "    right_arr = arr[mid: ]\n",
    "\n",
    "    left = merge_sort(left_arr)\n",
    "    right = merge_sort(right_arr)\n",
    "\n",
    "    return merge_sorted_helper(left,right)\n"
   ]
  },
  {
   "cell_type": "code",
   "execution_count": 38,
   "metadata": {},
   "outputs": [
    {
     "data": {
      "text/plain": [
       "[1, 2, 3, 4, 5, 6, 7, 8, 9, 9]"
      ]
     },
     "execution_count": 38,
     "metadata": {},
     "output_type": "execute_result"
    }
   ],
   "source": [
    "arr1 =[1,2,5,8,9]\n",
    "arr2 =[3,4,6,7,11]\n",
    "merge_sorted_helper(arr1,arr2)"
   ]
  },
  {
   "cell_type": "code",
   "execution_count": 39,
   "metadata": {},
   "outputs": [
    {
     "data": {
      "text/plain": [
       "[1, 2, 1, 2, 1, 2, 1, 2]"
      ]
     },
     "execution_count": 39,
     "metadata": {},
     "output_type": "execute_result"
    }
   ],
   "source": [
    "arr = [2,1,5,8,9,6,7,4]\n",
    "merge_sort(arr)"
   ]
  }
 ],
 "metadata": {
  "kernelspec": {
   "display_name": "Python 3",
   "language": "python",
   "name": "python3"
  },
  "language_info": {
   "codemirror_mode": {
    "name": "ipython",
    "version": 3
   },
   "file_extension": ".py",
   "mimetype": "text/x-python",
   "name": "python",
   "nbconvert_exporter": "python",
   "pygments_lexer": "ipython3",
   "version": "3.11.4"
  },
  "orig_nbformat": 4
 },
 "nbformat": 4,
 "nbformat_minor": 2
}
