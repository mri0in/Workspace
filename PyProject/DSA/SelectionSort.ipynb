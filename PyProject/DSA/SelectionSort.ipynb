{
 "cells": [
  {
   "cell_type": "code",
   "execution_count": 17,
   "metadata": {},
   "outputs": [],
   "source": [
    "def selection_sort(arr):\n",
    "    for i in range(len(arr)-1):\n",
    "        # print(i+1,\"Pass:\", end=\" \")\n",
    "        min = i\n",
    "        # print(\"Current min is: \",arr[min])\n",
    "        for j in range(i+1,len(arr)):\n",
    "            # print(\"Current-item under observation is: \",arr[j])\n",
    "            if arr[j]<arr[min]:\n",
    "                # print(\"Current item is less than Current min\")\n",
    "                min = j\n",
    "                # print(\"Now the current min has become\",arr[min])\n",
    "        arr[i],arr[min] = arr[min],arr[i]\n",
    "        # print(arr)\n",
    "        # print(\"*\"*50)\n",
    "    return arr\n",
    "\n",
    "    "
   ]
  },
  {
   "cell_type": "code",
   "execution_count": 18,
   "metadata": {},
   "outputs": [
    {
     "name": "stdout",
     "output_type": "stream",
     "text": [
      "1 Pass: Current min is:  6\n",
      "Current-item under observation is:  3\n",
      "Current item is less than Current min\n",
      "Now the current min has become 3\n",
      "Current-item under observation is:  9\n",
      "Current-item under observation is:  5\n",
      "Current-item under observation is:  2\n",
      "Current item is less than Current min\n",
      "Now the current min has become 2\n",
      "Current-item under observation is:  4\n",
      "[2, 3, 9, 5, 6, 4]\n",
      "**************************************************\n",
      "2 Pass: Current min is:  3\n",
      "Current-item under observation is:  9\n",
      "Current-item under observation is:  5\n",
      "Current-item under observation is:  6\n",
      "Current-item under observation is:  4\n",
      "[2, 3, 9, 5, 6, 4]\n",
      "**************************************************\n",
      "3 Pass: Current min is:  9\n",
      "Current-item under observation is:  5\n",
      "Current item is less than Current min\n",
      "Now the current min has become 5\n",
      "Current-item under observation is:  6\n",
      "Current-item under observation is:  4\n",
      "Current item is less than Current min\n",
      "Now the current min has become 4\n",
      "[2, 3, 4, 5, 6, 9]\n",
      "**************************************************\n",
      "4 Pass: Current min is:  5\n",
      "Current-item under observation is:  6\n",
      "Current-item under observation is:  9\n",
      "[2, 3, 4, 5, 6, 9]\n",
      "**************************************************\n",
      "5 Pass: Current min is:  6\n",
      "Current-item under observation is:  9\n",
      "[2, 3, 4, 5, 6, 9]\n",
      "**************************************************\n"
     ]
    },
    {
     "data": {
      "text/plain": [
       "[2, 3, 4, 5, 6, 9]"
      ]
     },
     "execution_count": 18,
     "metadata": {},
     "output_type": "execute_result"
    }
   ],
   "source": [
    "arr = [6,3,9,5,2,4]\n",
    "selection_sort(arr)"
   ]
  }
 ],
 "metadata": {
  "kernelspec": {
   "display_name": "Python 3",
   "language": "python",
   "name": "python3"
  },
  "language_info": {
   "codemirror_mode": {
    "name": "ipython",
    "version": 3
   },
   "file_extension": ".py",
   "mimetype": "text/x-python",
   "name": "python",
   "nbconvert_exporter": "python",
   "pygments_lexer": "ipython3",
   "version": "3.11.4"
  },
  "orig_nbformat": 4
 },
 "nbformat": 4,
 "nbformat_minor": 2
}
