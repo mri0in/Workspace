{
 "cells": [
  {
   "cell_type": "code",
   "execution_count": 8,
   "metadata": {},
   "outputs": [],
   "source": [
    "class Dictionary:\n",
    "    def __init__(self, size):\n",
    "        self.size = size\n",
    "        self.slots = [None] * size\n",
    "        self.data = [None]*size\n",
    "        \n",
    "    def put(self, key, value):\n",
    "        hash_value = self.hash_function(key)\n",
    "        start_position = hash_value\n",
    "        while hash_value<self.size:\n",
    "            if self.slots[hash_value] == None:\n",
    "                self.slots[hash_value] = key\n",
    "                self.data[hash_value] = value\n",
    "                return\n",
    "            elif self.slots[hash_value] == key:\n",
    "                self.data[hash_value]= value\n",
    "                return\n",
    "            else:\n",
    "                hash_value = self.rehash(hash_value)\n",
    "                if hash_value == start_position:\n",
    "                   return \"No empty Slots\"\n",
    "                # if self.slots[hash_value] == None:\n",
    "                #     self.slots[new_hash] = key\n",
    "                #     self.data[new_hash] = value\n",
    "                #             new_hash = self.rehash(hash_value)\n",
    "                # while self.slots[new_hash]!=None and self.slots[new_hash] !=key:\n",
    "                #     new_hash = self.rehash(new_hash)\n",
    "                #     if self.slots[new_hash] == None:\n",
    "                #         self.slots[new_hash] = key\n",
    "                #         self.data[new_hash] = value\n",
    "                #     else:\n",
    "                #         self.data[new_hash] = value\n",
    "                        \n",
    "    def get(self,key):\n",
    "        start_position = self.hash_function(key)\n",
    "        current_position = start_position\n",
    "\n",
    "        while self.slots[current_position]!= None:\n",
    "            if self.slots[current_position] == key:  \n",
    "                return self.data[current_position]\n",
    "            \n",
    "            current_position = self.rehash(current_position)\n",
    "\n",
    "            if current_position == start_position:\n",
    "                return 'Data not found.'   \n",
    "        return 'not found.'\n",
    "\n",
    "\n",
    "    ''' __setitem__ is a magic method which provides the functionality of the Dictionary. Using this method u can directly use dict notation to call a value using a key e.g d1[python]= value;\n",
    "    instead of using d1.put('python', 45) '''\n",
    "    def __setitem__(self,key,value): \n",
    "        self.put(key,value)\n",
    "\n",
    "    def __getitem__(self,key):\n",
    "        return self.get(key)\n",
    "    \n",
    "    def __str__(self):\n",
    "        for i in range(len(self.slots)):\n",
    "               if self.slots[i] != None:\n",
    "                   print(self.slots[i],':', self.data[i], end='   ')\n",
    "        return '' \n",
    "        \n",
    "\n",
    "    def rehash(self, old_hash):\n",
    "        return (old_hash + 1) % self.size   ;''' Linear probing: (g(i)=[h(i)+K(i')]'%'size); where k(i) been replaced by '1'  '''\n",
    "\n",
    "    def hash_function(self,key):\n",
    "        return abs(hash(key)) % self.size   ;''''hash' gives index value of any num or str and 'abs' provides only positive values. '''\n",
    "        '''The 'method hash_function' is a Hasing function i.e h(i)=i%size '''"
   ]
  },
  {
   "cell_type": "code",
   "execution_count": 10,
   "metadata": {},
   "outputs": [],
   "source": [
    "d = Dictionary(5)"
   ]
  },
  {
   "cell_type": "code",
   "execution_count": 169,
   "metadata": {},
   "outputs": [
    {
     "name": "stdout",
     "output_type": "stream",
     "text": [
      "[None, None, None, None, None]\n",
      "[None, None, None, None, None]\n"
     ]
    }
   ],
   "source": [
    "print(d.slots)\n",
    "print(d.data)"
   ]
  },
  {
   "cell_type": "code",
   "execution_count": 170,
   "metadata": {},
   "outputs": [],
   "source": [
    "d['python']=56\n",
    "d['java']=88\n",
    "d['php']= 34\n",
    "d['pearl']= 69\n"
   ]
  },
  {
   "cell_type": "code",
   "execution_count": 14,
   "metadata": {},
   "outputs": [],
   "source": [
    "d.slots[0]"
   ]
  }
 ],
 "metadata": {
  "kernelspec": {
   "display_name": "Python 3",
   "language": "python",
   "name": "python3"
  },
  "language_info": {
   "codemirror_mode": {
    "name": "ipython",
    "version": 3
   },
   "file_extension": ".py",
   "mimetype": "text/x-python",
   "name": "python",
   "nbconvert_exporter": "python",
   "pygments_lexer": "ipython3",
   "version": "3.11.4"
  },
  "orig_nbformat": 4
 },
 "nbformat": 4,
 "nbformat_minor": 2
}
