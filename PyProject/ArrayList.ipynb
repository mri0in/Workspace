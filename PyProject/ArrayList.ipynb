{
 "cells": [
  {
   "cell_type": "code",
   "execution_count": 142,
   "metadata": {},
   "outputs": [],
   "source": [
    "import ctypes\n",
    "\n",
    "class createdArrayList:\n",
    "    def __init__(self):\n",
    "        self.size = 1\n",
    "        self.n = 0\n",
    "        # create array with size = self.size\n",
    "        self.A = self.__create_array(self.size) \n",
    "\n",
    "    def __len__(self):\n",
    "        return self.n\n",
    "\n",
    "    def append(self,item):\n",
    "        if self.n == self.size:\n",
    "        #resize the array by two times\n",
    "            self.__resize(self.size * 2)\n",
    "        \n",
    "        #append\n",
    "        self.A[self.n] = item\n",
    "        self.n = self.n +1\n",
    "\n",
    "    def pop(self):\n",
    "        if self.n == 0:\n",
    "            return 'Empty list'\n",
    "        \n",
    "        return 'The last item ' + self.A[self.n-1] + 'has been removed.'\n",
    "        self.n = self.n - 1\n",
    "\n",
    "\n",
    "    def __resize(self, new_capacity):\n",
    "\n",
    "        # create new array\n",
    "        B= self.__create_array(new_capacity)\n",
    "        self.size = new_capacity\n",
    "        # copy the content of prev array into new array 'b'\n",
    "        for i in range(self.n):\n",
    "            B[i] = self.A[i]\n",
    "        # reassign 'A' as 'B'\n",
    "        self.A = B\n",
    "\n",
    "    def __str__(self):\n",
    "        result = ' '    \n",
    "        for i in range(self.n):\n",
    "            result = result + str(self.A[i]) + ','    \n",
    "        return '[' + result[:-1] + ']'\n",
    "    \n",
    "    def __getitem__(self, index):\n",
    "        if 0<= index < self.n:\n",
    "            return self.A[index]\n",
    "        else:\n",
    "            return 'IndexError--- Index out of Bound'\n",
    "\n",
    "    def __create_array(self, capacity):\n",
    "        # create array(fixed, static, refrential) wtih size capacity\n",
    "        return (capacity*ctypes.py_object)()\n"
   ]
  },
  {
   "cell_type": "code",
   "execution_count": 145,
   "metadata": {},
   "outputs": [
    {
     "name": "stdout",
     "output_type": "stream",
     "text": [
      "[12, 100, 23, 300]\n"
     ]
    }
   ],
   "source": [
    "l= createdArrayList()\n",
    "l= [12,100,23,300]\n",
    "# l.append('Hello')\n",
    "# l.append(3.445)\n",
    "# l.append('100')\n",
    "# l.append('str')\n",
    "# l.append(100)\n",
    "# l.append(12)\n",
    "print(l)\n",
    "\n",
    "\n"
   ]
  },
  {
   "cell_type": "code",
   "execution_count": 1,
   "metadata": {},
   "outputs": [
    {
     "ename": "NameError",
     "evalue": "name 'l' is not defined",
     "output_type": "error",
     "traceback": [
      "\u001b[1;31m---------------------------------------------------------------------------\u001b[0m",
      "\u001b[1;31mNameError\u001b[0m                                 Traceback (most recent call last)",
      "Cell \u001b[1;32mIn[1], line 1\u001b[0m\n\u001b[1;32m----> 1\u001b[0m \u001b[39mprint\u001b[39m(l)\n",
      "\u001b[1;31mNameError\u001b[0m: name 'l' is not defined"
     ]
    }
   ],
   "source": [
    "print(l)\n"
   ]
  }
 ],
 "metadata": {
  "kernelspec": {
   "display_name": "Python 3",
   "language": "python",
   "name": "python3"
  },
  "language_info": {
   "codemirror_mode": {
    "name": "ipython",
    "version": 3
   },
   "file_extension": ".py",
   "mimetype": "text/x-python",
   "name": "python",
   "nbconvert_exporter": "python",
   "pygments_lexer": "ipython3",
   "version": "3.11.4"
  },
  "orig_nbformat": 4
 },
 "nbformat": 4,
 "nbformat_minor": 2
}
