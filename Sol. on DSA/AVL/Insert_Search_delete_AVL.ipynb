{
 "cells": [
  {
   "cell_type": "code",
   "execution_count": 1,
   "metadata": {},
   "outputs": [],
   "source": [
    "class Node:\n",
    "    def __init__(self, data):\n",
    "        self.left = None\n",
    "        self.right = None\n",
    "        self.data = data\n",
    "        self.height = 1\n",
    "        "
   ]
  },
  {
   "cell_type": "code",
   "execution_count": 2,
   "metadata": {},
   "outputs": [],
   "source": [
    "class AVL(object):\n",
    "    # def __init__(self,root):\n",
    "    #     self.root = root\n",
    "\n",
    "    def getHeight(self,node):\n",
    "        # return 0 if not node else node.height; original code\n",
    "        if not node:\n",
    "            return 0\n",
    " \n",
    "        return node.height\n",
    "    \n",
    "    def getBalanceFactor(self,node):\n",
    "        # return 0 if not node else max(self.getHeight(node.left)-self.getHeight(node.right)); original code\n",
    "        if not node:\n",
    "            return 0\n",
    "        return self.getHeight(node.left) - self.getHeight(node.right)\n",
    "    \n",
    "    def getMinNode(self,node):\n",
    "        return node if not node or not node.left else self.getMinNode(node.left)\n",
    "    \n",
    "    def insert(self,root,data):\n",
    "        if not root:\n",
    "            return Node(data)\n",
    "        if data < root.data:\n",
    "            root.left = self.insert(root.left, data)\n",
    "        elif data > root.data:\n",
    "            root.right = self.insert(root.right, data)   \n",
    "\n",
    "        #Height update\n",
    "        root.height = 1 + max(self.getHeight(root.left), self.getHeight(root.right))\n",
    "\n",
    "        #Check balance Factor of the whole Tree \n",
    "        balanceFactor = self.getBalanceFactor(root)\n",
    "\n",
    "        if (balanceFactor > 1) and data < root.left.data:\n",
    "            return self.rightRotate(root)\n",
    "        \n",
    "        if balanceFactor < -1 and data > root.right.data: #(-2) is less than (-1)\n",
    "            return self.leftRotate(root)\n",
    "        \n",
    "        if balanceFactor < -1 and data < root.right.data:\n",
    "            root.right =  self.rightRotate(root.right) # 1st right-rotate the child-root of FIB(First ImBalance) Node\n",
    "            return self.leftRotate(root)#then left rotate the FIB\n",
    "        \n",
    "        if balanceFactor > 1 and data > root.left.data:\n",
    "            root.left =  self.rightRotate(root.left) # 1st left-rotate the child-root of FIB(First ImBalance) Node\n",
    "            return self.rightRotate(root)#then right rotate the FIB\n",
    "        \n",
    "        return root\n",
    "        \n",
    "\n",
    "    def rightRotate(self, currNode):\n",
    "        A = currNode.left\n",
    "        Y = A.right\n",
    "        A.right = currNode\n",
    "        currNode.left = Y\n",
    "\n",
    "        #update Height of both nodes\n",
    "        currNode.height = 1 + max(self.getHeight(currNode.left), self.getHeight(currNode.right))\n",
    "        A.height = 1 + max(self.getHeight(A.left), self.getHeight(A.right))\n",
    "\n",
    "        return A\n",
    "    \n",
    "    def leftRotate(self, currNode):\n",
    "        A = currNode.right\n",
    "        Y = A.left\n",
    "        A.left = currNode\n",
    "        currNode.right = Y\n",
    "\n",
    "        #Update Height of both nodes\n",
    "        \n",
    "        currNode.height = 1 + max(self.getHeight(currNode.left), self.getHeight(currNode.right))\n",
    "        A.height = 1 + max(self.getHeight(A.left), self.getHeight(A.right))\n",
    "\n",
    "        return A\n",
    "    \n",
    "    def search(root,key):\n",
    "        if root is None:\n",
    "            return None\n",
    "        \n",
    "\n",
    "\n",
    "    def preOrder(self, root):\n",
    "\n",
    "        if not root:\n",
    "            return\n",
    "\n",
    "        print(\"{0} \".format(root.data), end=\"\")\n",
    "        self.preOrder(root.left)\n",
    "        self.preOrder(root.right)\n",
    "\n",
    "def printLevelOrderQueue(root):\n",
    "    if root is None:\n",
    "        return \n",
    "    \n",
    "    queue = []\n",
    "    queue.append(root)\n",
    "\n",
    "    while (len(queue)>0):\n",
    "        print(queue[0].data, end=\" \")\n",
    "        node = queue.pop(0)\n",
    "\n",
    "        if node.left is not None:\n",
    "            queue.append(node.left)\n",
    "        if node.right is not None:\n",
    "            queue.append(node.right)\n",
    "\n",
    "\n",
    "\n",
    "\n",
    "\n",
    "\n"
   ]
  },
  {
   "cell_type": "code",
   "execution_count": 3,
   "metadata": {},
   "outputs": [],
   "source": [
    "avl = AVL()\n"
   ]
  },
  {
   "cell_type": "code",
   "execution_count": 4,
   "metadata": {},
   "outputs": [],
   "source": [
    "root = None\n",
    "keys = [10,20,30,40,50,25]\n",
    "# keys = [50, 25, 75, 15, 35, 60, 120, 10, 68, 90, 125, 83, 100]; Orininal tree\n",
    "    \n",
    "for key in keys:\n",
    "    root = avl.insert(root, key)"
   ]
  },
  {
   "cell_type": "code",
   "execution_count": 5,
   "metadata": {},
   "outputs": [
    {
     "name": "stdout",
     "output_type": "stream",
     "text": [
      "30 20 10 25 40 50 "
     ]
    }
   ],
   "source": [
    "avl.preOrder(root)"
   ]
  },
  {
   "cell_type": "code",
   "execution_count": 6,
   "metadata": {},
   "outputs": [
    {
     "name": "stdout",
     "output_type": "stream",
     "text": [
      "30 20 40 10 25 50 "
     ]
    }
   ],
   "source": [
    "printLevelOrderQueue(root)"
   ]
  },
  {
   "cell_type": "code",
   "execution_count": 14,
   "metadata": {},
   "outputs": [],
   "source": [
    "del root"
   ]
  }
 ],
 "metadata": {
  "kernelspec": {
   "display_name": "Python 3",
   "language": "python",
   "name": "python3"
  },
  "language_info": {
   "codemirror_mode": {
    "name": "ipython",
    "version": 3
   },
   "file_extension": ".py",
   "mimetype": "text/x-python",
   "name": "python",
   "nbconvert_exporter": "python",
   "pygments_lexer": "ipython3",
   "version": "3.11.4"
  },
  "orig_nbformat": 4
 },
 "nbformat": 4,
 "nbformat_minor": 2
}
