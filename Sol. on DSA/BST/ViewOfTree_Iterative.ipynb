{
 "cells": [
  {
   "cell_type": "code",
   "execution_count": 2,
   "metadata": {},
   "outputs": [],
   "source": [
    "class Node:\n",
    "    def __init__(self,data):\n",
    "        self.left = None\n",
    "        self.right = None\n",
    "        self.data = data"
   ]
  },
  {
   "cell_type": "code",
   "execution_count": 38,
   "metadata": {},
   "outputs": [],
   "source": [
    "def topViewTreeIter(root):\n",
    "    dict = {}\n",
    "    col = 0\n",
    "    level = 0\n",
    "    queue = [[root,col,level]]\n",
    "    \n",
    "    while (queue):\n",
    "        curr = queue.pop(0)\n",
    "        node = curr[0]\n",
    "        \n",
    "        val = curr[0].data\n",
    "        key = curr[1]\n",
    "        lev = curr[2]\n",
    "\n",
    "        if key not in dict:\n",
    "            dict[key] = [val,lev]\n",
    "        elif lev < dict[key][1]:\n",
    "            dict[key] = [val,lev]\n",
    "\n",
    "\n",
    "        if node.left:\n",
    "            queue.append([node.left, key-1, lev+1])\n",
    "        if node.right:\n",
    "            queue.append([node.right, key+1, lev+1])   \n",
    "\n",
    "    for keys in sorted(dict):\n",
    "        print(dict[keys][0],end =' ')\n",
    "\n",
    "\n",
    "def bottomViewTreeIter(root):\n",
    "    dict = {}\n",
    "    col = 0\n",
    "    level = 0\n",
    "    queue = [[root,col,level]]\n",
    "    \n",
    "    while (queue):\n",
    "        curr = queue.pop(0)\n",
    "        node = curr[0]\n",
    "        \n",
    "        val = curr[0].data\n",
    "        key = curr[1]\n",
    "        lev = curr[2]\n",
    "\n",
    "        if key not in dict:\n",
    "            dict[key] = [val,lev]\n",
    "        elif lev > dict[key][1]:\n",
    "            dict[key] = [val,lev]\n",
    "\n",
    "\n",
    "        if node.left:\n",
    "            queue.append([node.left, key-1, lev+1])\n",
    "        if node.right:\n",
    "            queue.append([node.right, key+1, lev+1])   \n",
    "\n",
    "    for keys in sorted(dict):\n",
    "        print(dict[keys][0],end =' ')\n",
    "\n",
    "def leftViewIter(root):\n",
    "    dict = {}\n",
    "    lev = 0\n",
    "    queue = [[root,lev]]\n",
    "    \n",
    "    while (queue):\n",
    "        curr = queue.pop(0)\n",
    "        node = curr[0]\n",
    "        \n",
    "        val = curr[0].data\n",
    "        level = curr[1]\n",
    "        \n",
    "        if level not in dict:\n",
    "            dict[level] = [val]\n",
    "        else:\n",
    "            dict[level].append(val)    \n",
    "         \n",
    "\n",
    "\n",
    "        if node.left:\n",
    "            queue.append([node.left, level+1])\n",
    "        if node.right:\n",
    "            queue.append([node.right, level+1]) \n",
    "\n",
    "    for keys in sorted(dict):\n",
    "        print(dict[keys][0], end= ' ')\n",
    "\n"
   ]
  },
  {
   "cell_type": "code",
   "execution_count": 4,
   "metadata": {},
   "outputs": [],
   "source": [
    "root = Node(10)\n",
    "root.left = Node(11)\n",
    "root.left.right = Node(12)\n",
    "root.left.left = Node(7)\n",
    "root.left.left.right = Node(20)\n",
    "root.right = Node(9)\n",
    "root.right.left = Node(15)\n",
    "root.right.right = Node(8)"
   ]
  },
  {
   "cell_type": "code",
   "execution_count": 12,
   "metadata": {},
   "outputs": [
    {
     "name": "stdout",
     "output_type": "stream",
     "text": [
      "7 11 10 9 8 "
     ]
    }
   ],
   "source": [
    "topViewTreeIter(root)"
   ]
  },
  {
   "cell_type": "code",
   "execution_count": 13,
   "metadata": {},
   "outputs": [
    {
     "name": "stdout",
     "output_type": "stream",
     "text": [
      "7 20 12 9 8 "
     ]
    }
   ],
   "source": [
    "bottomViewTreeIter(root)"
   ]
  },
  {
   "cell_type": "code",
   "execution_count": 39,
   "metadata": {},
   "outputs": [
    {
     "name": "stdout",
     "output_type": "stream",
     "text": [
      "10 11 7 20 "
     ]
    }
   ],
   "source": [
    "leftViewIter(root)"
   ]
  }
 ],
 "metadata": {
  "kernelspec": {
   "display_name": "Python 3",
   "language": "python",
   "name": "python3"
  },
  "language_info": {
   "codemirror_mode": {
    "name": "ipython",
    "version": 3
   },
   "file_extension": ".py",
   "mimetype": "text/x-python",
   "name": "python",
   "nbconvert_exporter": "python",
   "pygments_lexer": "ipython3",
   "version": "3.11.4"
  },
  "orig_nbformat": 4
 },
 "nbformat": 4,
 "nbformat_minor": 2
}
