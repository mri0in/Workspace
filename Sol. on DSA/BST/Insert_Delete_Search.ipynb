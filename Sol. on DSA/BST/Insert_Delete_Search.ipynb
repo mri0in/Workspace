{
 "cells": [
  {
   "cell_type": "code",
   "execution_count": 1,
   "metadata": {},
   "outputs": [],
   "source": [
    "class Node:\n",
    "    def __init__(self,data):\n",
    "        self.left = None\n",
    "        self.right = None\n",
    "        self.data = data"
   ]
  },
  {
   "cell_type": "code",
   "execution_count": 47,
   "metadata": {},
   "outputs": [],
   "source": [
    "def insertNode(root,key):\n",
    "    if root is None:\n",
    "        root = Node(key)\n",
    "        return\n",
    "    queue = []\n",
    "    queue.append(root)\n",
    "    while(len(queue)):\n",
    "        curr = queue.pop(0)#pop(0) deletes First postion of queue instead of last\n",
    "\n",
    "        if key < curr.data :\n",
    "            if curr.left:\n",
    "                queue.append(curr.left)\n",
    "            else:\n",
    "                curr.left = Node(key)    \n",
    "        elif key > curr.data:\n",
    "            if curr.right:\n",
    "                queue.append(curr.right)\n",
    "            else: \n",
    "                curr.right = Node(key)    \n",
    "\n",
    "                \n",
    "def searchBST(root,key):\n",
    "    if root is None:\n",
    "        return 'Root cannot be Null.'\n",
    "    \n",
    "    queue = []\n",
    "    queue.append(root)\n",
    "    isThere = False\n",
    "\n",
    "    while(queue):\n",
    "        curr = queue.pop(0)\n",
    "        if curr.data == key:\n",
    "            isThere = True\n",
    "            break\n",
    "\n",
    "        if key < curr.data:\n",
    "            if curr.left:\n",
    "                queue.append(curr.left)\n",
    "        elif key > curr.data:\n",
    "            if curr.right:\n",
    "                queue.append(curr.right)\n",
    "\n",
    "    if isThere:\n",
    "        print(\"The Given Node\",key,\"is Present.\")\n",
    "    else:\n",
    "        print(\"The Given Node\",key,\"not-Found.\")\n",
    "\n",
    "def deleteOnlyleafNode(root,key):\n",
    "    if root is None:\n",
    "        return 'Root cannot be Null.'\n",
    "    if root.data == key:\n",
    "        return 'Key cannot be equal to root value.'\n",
    "       \n",
    "    queue = []\n",
    "    queue.append(root)\n",
    "    \n",
    "    while(queue):\n",
    "        curr = queue.pop(0)\n",
    "        if (curr.left is not None and curr.left.data == key):\n",
    "            if curr.left.left is None  and curr.left.right is None:\n",
    "                curr.left = None\n",
    "                print(\"The given key\",key,'been Deleted!')\n",
    "                break\n",
    "            else:\n",
    "                print('The given key', key,'is Not a Leaf node!')\n",
    "        elif (curr.right is not None and curr.right.data == key):\n",
    "            if curr.right.left is None  and curr.right.right is None:\n",
    "                curr.right = None\n",
    "                print(\"The given key\",key,'been Deleted!')\n",
    "                break\n",
    "            else:\n",
    "                print('The given key', key,'is Not a Leaf node!')\n",
    "            \n",
    "\n",
    "        if key < curr.data:\n",
    "            if curr.left:\n",
    "                queue.append(curr.left)\n",
    "        elif key > curr.data:\n",
    "            if curr.right:\n",
    "                queue.append(curr.right)\n",
    "\n",
    "def deleteSingleChildNode(root,key):\n",
    "    if root is None:\n",
    "        return 'Root cannot be Null.'\n",
    "    if root.data == key:\n",
    "        return 'Key cannot be equal to root value.'\n",
    "       \n",
    "    queue = []\n",
    "    queue.append(root)\n",
    "    temp = []\n",
    "    while(queue):\n",
    "        curr = queue.pop(0)\n",
    "        if curr.data == key:\n",
    "            if curr.right is not None and curr.left is not None:\n",
    "                print(\"The given node\",key,'do not have single child!')\n",
    "                break\n",
    "            elif curr.left or curr.right:\n",
    "                curr = curr.left or curr.right\n",
    "                buck = temp.pop()\n",
    "                buck.left = curr\n",
    "                break\n",
    "            else:\n",
    "                print(\"The given node\",key,'is Leaf Node, cannot be deleted!')\n",
    "\n",
    "\n",
    "        if key < curr.data:\n",
    "            if curr.left:\n",
    "                temp.append(curr)\n",
    "                queue.append(curr.left)\n",
    "        elif key > curr.data:\n",
    "            if curr.right:\n",
    "                temp.append(curr)\n",
    "                queue.append(curr.right)\n",
    "    temp.clear()\n",
    "\n",
    "\n",
    "\n",
    "def inOrder_Iterative(root):\n",
    "    Stack = []\n",
    "    \n",
    "    curr = root\n",
    "    while (True):\n",
    "        if curr != None:\n",
    "            Stack.append(curr)\n",
    "            curr = curr.left\n",
    "        elif Stack:\n",
    "            curr = Stack.pop()\n",
    "            print(curr.data, end=\" \")\n",
    "            curr = curr.right\n",
    "        else:\n",
    "            break \n",
    "    print()\n"
   ]
  },
  {
   "cell_type": "code",
   "execution_count": 3,
   "metadata": {},
   "outputs": [],
   "source": [
    "root = Node(10)"
   ]
  },
  {
   "cell_type": "code",
   "execution_count": 27,
   "metadata": {},
   "outputs": [],
   "source": [
    "insertNode(root,9)\n",
    "insertNode(root,7)\n",
    "insertNode(root,8)\n",
    "insertNode(root,15)\n",
    "insertNode(root,12)\n",
    "insertNode(root,16)"
   ]
  },
  {
   "cell_type": "code",
   "execution_count": 38,
   "metadata": {},
   "outputs": [
    {
     "name": "stdout",
     "output_type": "stream",
     "text": [
      "10 \n"
     ]
    }
   ],
   "source": [
    "inOrder_Iterative(root)"
   ]
  },
  {
   "cell_type": "code",
   "execution_count": 26,
   "metadata": {},
   "outputs": [
    {
     "name": "stdout",
     "output_type": "stream",
     "text": [
      "The Given Node 12 not-Found.\n"
     ]
    }
   ],
   "source": [
    "searchBST(root,12)"
   ]
  },
  {
   "cell_type": "code",
   "execution_count": 37,
   "metadata": {},
   "outputs": [
    {
     "name": "stdout",
     "output_type": "stream",
     "text": [
      "The given key 9 been Deleted!\n"
     ]
    }
   ],
   "source": [
    "deleteOnlyleafNode(root,9)"
   ]
  },
  {
   "cell_type": "markdown",
   "metadata": {},
   "source": [
    "***************Deleting Single Node of BST*******************"
   ]
  },
  {
   "cell_type": "code",
   "execution_count": 40,
   "metadata": {},
   "outputs": [],
   "source": [
    "rootdel = Node(20)"
   ]
  },
  {
   "cell_type": "code",
   "execution_count": 41,
   "metadata": {},
   "outputs": [],
   "source": [
    "insertNode(rootdel,18)\n",
    "insertNode(rootdel,19)\n",
    "insertNode(rootdel,17)\n",
    "insertNode(rootdel,16)\n",
    "insertNode(rootdel,14)\n",
    "insertNode(rootdel,13)"
   ]
  },
  {
   "cell_type": "code",
   "execution_count": 46,
   "metadata": {},
   "outputs": [
    {
     "name": "stdout",
     "output_type": "stream",
     "text": [
      "13 16 17 18 19 20 \n"
     ]
    }
   ],
   "source": [
    "inOrder_Iterative(rootdel)"
   ]
  },
  {
   "cell_type": "code",
   "execution_count": 44,
   "metadata": {},
   "outputs": [],
   "source": [
    "deleteSingleChildNode(rootdel,13)"
   ]
  }
 ],
 "metadata": {
  "kernelspec": {
   "display_name": "Python 3",
   "language": "python",
   "name": "python3"
  },
  "language_info": {
   "codemirror_mode": {
    "name": "ipython",
    "version": 3
   },
   "file_extension": ".py",
   "mimetype": "text/x-python",
   "name": "python",
   "nbconvert_exporter": "python",
   "pygments_lexer": "ipython3",
   "version": "3.11.4"
  },
  "orig_nbformat": 4
 },
 "nbformat": 4,
 "nbformat_minor": 2
}
