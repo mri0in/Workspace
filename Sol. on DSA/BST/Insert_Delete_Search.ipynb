{
 "cells": [
  {
   "cell_type": "code",
   "execution_count": 5,
   "metadata": {},
   "outputs": [],
   "source": [
    "class Node:\n",
    "    def __init__(self,data):\n",
    "        self.left = None\n",
    "        self.right = None\n",
    "        self.data = data"
   ]
  },
  {
   "cell_type": "code",
   "execution_count": 11,
   "metadata": {},
   "outputs": [],
   "source": [
    "def insertNode(root,key):\n",
    "    if root is None:\n",
    "        root = Node(key)\n",
    "        return\n",
    "    queue = []\n",
    "    queue.append(root)\n",
    "    while(len(queue)):\n",
    "        curr = queue.pop(0)#pop(0) deletes First postion of queue instead of last\n",
    "\n",
    "        if key < curr.data :\n",
    "            if curr.left:\n",
    "                queue.append(curr.left)\n",
    "            else:\n",
    "                curr.left = Node(key)    \n",
    "        elif key > curr.data:\n",
    "            if curr.right:\n",
    "                queue.append(curr.right)\n",
    "            else: \n",
    "                curr.right = Node(key)    \n",
    "\n",
    "def inOrder_Iterative(root):\n",
    "    Stack = []\n",
    "    \n",
    "    current = root\n",
    "    while (True):\n",
    "        if current != None:\n",
    "            Stack.append(current)\n",
    "            current = current.left\n",
    "        elif Stack:\n",
    "            current = Stack.pop()\n",
    "            print(current.data, end=\" \")\n",
    "            current = current.right\n",
    "        else:\n",
    "            break \n",
    "    print()"
   ]
  },
  {
   "cell_type": "code",
   "execution_count": 7,
   "metadata": {},
   "outputs": [],
   "source": [
    "root = Node(10)"
   ]
  },
  {
   "cell_type": "code",
   "execution_count": 15,
   "metadata": {},
   "outputs": [],
   "source": [
    "insertNode(root,8)"
   ]
  },
  {
   "cell_type": "code",
   "execution_count": null,
   "metadata": {},
   "outputs": [
    {
     "name": "stdout",
     "output_type": "stream",
     "text": [
      "7 9 10 12 15 \n"
     ]
    }
   ],
   "source": [
    "inOrder_Iterative(root)"
   ]
  }
 ],
 "metadata": {
  "kernelspec": {
   "display_name": "Python 3",
   "language": "python",
   "name": "python3"
  },
  "language_info": {
   "codemirror_mode": {
    "name": "ipython",
    "version": 3
   },
   "file_extension": ".py",
   "mimetype": "text/x-python",
   "name": "python",
   "nbconvert_exporter": "python",
   "pygments_lexer": "ipython3",
   "version": "3.11.4"
  },
  "orig_nbformat": 4
 },
 "nbformat": 4,
 "nbformat_minor": 2
}
