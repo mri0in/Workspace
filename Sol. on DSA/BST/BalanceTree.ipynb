{
 "cells": [
  {
   "cell_type": "code",
   "execution_count": 18,
   "metadata": {},
   "outputs": [],
   "source": [
    "class Node:\n",
    "    def __init__(self,data):\n",
    "        self.left = None\n",
    "        self.right = None\n",
    "        self.data = data"
   ]
  },
  {
   "cell_type": "code",
   "execution_count": 23,
   "metadata": {},
   "outputs": [],
   "source": [
    "def buildBalancedTree(root):\n",
    "    #Nodes stores nodes-addresses in list form i.e Lists of all Nodes\n",
    "    nodes = []\n",
    "    #inorderd nodes\n",
    "    inorderedNodes(root,nodes)\n",
    "    \n",
    "    return buildTree(nodes,0,len(nodes)-1)\n",
    "\n",
    "def buildTree(nodes, start, end):\n",
    "    if start>end:\n",
    "        return None\n",
    "    mid = (start + end)//2\n",
    "    node = nodes[mid]\n",
    "\n",
    "    node.left = buildTree(nodes,start,mid-1)\n",
    "    node.right = buildTree(nodes,mid+1, end)\n",
    "    return node\n",
    "\n",
    "\n",
    "def inorderedNodes(root,nodes):\n",
    "    # Store nodes in Inorder (which is sorted order for BST) in nodes var\n",
    "    if root is not None:\n",
    "        inorderedNodes(root.left, nodes)\n",
    "        nodes.append(root)\n",
    "        inorderedNodes(root.right, nodes)\n",
    "\n",
    "def preOrderNodes (root):\n",
    "    if root is not None:\n",
    "        print(root.data, end = ' ')\n",
    "        preOrderNodes(root.left)\n",
    "        preOrderNodes(root.right)\n",
    "\n",
    "\n",
    "\n",
    "# Constructed skewed binary tree is\n",
    "    #         10\n",
    "    #         /\n",
    "    #         8\n",
    "    #        /\n",
    "    #      7\n",
    "    #     /\n",
    "    #     6\n",
    "    #     /\n",
    "    #   5"
   ]
  },
  {
   "cell_type": "code",
   "execution_count": 20,
   "metadata": {},
   "outputs": [],
   "source": [
    "root = Node(10)\n",
    "root.left = Node(8)\n",
    "root.left.left = Node(7)\n",
    "root.left.left.left = Node(6)\n",
    "root.left.left.left.left = Node(5)"
   ]
  },
  {
   "cell_type": "code",
   "execution_count": 21,
   "metadata": {},
   "outputs": [],
   "source": [
    "root = buildBalancedTree(root)"
   ]
  },
  {
   "cell_type": "code",
   "execution_count": 22,
   "metadata": {},
   "outputs": [
    {
     "name": "stdout",
     "output_type": "stream",
     "text": [
      "7 5 6 8 10 "
     ]
    }
   ],
   "source": [
    "\n",
    "preOrderNodes(root)"
   ]
  }
 ],
 "metadata": {
  "kernelspec": {
   "display_name": "Python 3",
   "language": "python",
   "name": "python3"
  },
  "language_info": {
   "codemirror_mode": {
    "name": "ipython",
    "version": 3
   },
   "file_extension": ".py",
   "mimetype": "text/x-python",
   "name": "python",
   "nbconvert_exporter": "python",
   "pygments_lexer": "ipython3",
   "version": "3.11.4"
  },
  "orig_nbformat": 4
 },
 "nbformat": 4,
 "nbformat_minor": 2
}
