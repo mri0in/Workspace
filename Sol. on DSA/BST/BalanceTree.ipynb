{
 "cells": [
  {
   "cell_type": "code",
   "execution_count": 2,
   "metadata": {},
   "outputs": [],
   "source": [
    "class Node:\n",
    "    def __init__(self,data):\n",
    "        self.left = None\n",
    "        self.right = None\n",
    "        self.data = data"
   ]
  },
  {
   "cell_type": "code",
   "execution_count": 12,
   "metadata": {},
   "outputs": [],
   "source": [
    "def buildBalancedTree(root):\n",
    "    nodes = []\n",
    "    #inorderd nodes\n",
    "    inorderedNodes(root,nodes)\n",
    "    \n",
    "    return buildTree(nodes,0,len(nodes)-1)\n",
    "\n",
    "def buildTree(nodes, start, end):\n",
    "    if start>end:\n",
    "        return None\n",
    "    mid = (start + end)//2\n",
    "    node = nodes[mid]\n",
    "\n",
    "    node.left = buildTree(nodes,start,mid-1)\n",
    "    node.right = buildTree(nodes,mid+1, end)\n",
    "\n",
    "\n",
    "def inorderedNodes(root,nodes):\n",
    "    if root is not None:\n",
    "        inorderedNodes(root.left, nodes)\n",
    "        nodes.append(root)\n",
    "        inorderedNodes(root.right, nodes)\n",
    "\n",
    "\n",
    "# Constructed skewed binary tree is\n",
    "    #         10\n",
    "    #         /\n",
    "    #         8\n",
    "    #         /\n",
    "    #     7\n",
    "    #     /\n",
    "    #     6\n",
    "    #     /\n",
    "    # 5"
   ]
  },
  {
   "cell_type": "code",
   "execution_count": 4,
   "metadata": {},
   "outputs": [],
   "source": [
    "root = Node(10)\n",
    "root.left = Node(8)\n",
    "root.left.left = Node(7)\n",
    "root.left.left.left = Node(6)\n",
    "root.left.left.left.left = Node(5)"
   ]
  },
  {
   "cell_type": "code",
   "execution_count": 13,
   "metadata": {},
   "outputs": [],
   "source": [
    "buildBalancedTree(root)"
   ]
  },
  {
   "cell_type": "code",
   "execution_count": null,
   "metadata": {},
   "outputs": [],
   "source": []
  }
 ],
 "metadata": {
  "kernelspec": {
   "display_name": "Python 3",
   "language": "python",
   "name": "python3"
  },
  "language_info": {
   "codemirror_mode": {
    "name": "ipython",
    "version": 3
   },
   "file_extension": ".py",
   "mimetype": "text/x-python",
   "name": "python",
   "nbconvert_exporter": "python",
   "pygments_lexer": "ipython3",
   "version": "3.11.4"
  },
  "orig_nbformat": 4
 },
 "nbformat": 4,
 "nbformat_minor": 2
}
