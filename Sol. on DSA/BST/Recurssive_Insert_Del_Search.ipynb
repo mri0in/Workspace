{
 "cells": [
  {
   "cell_type": "code",
   "execution_count": 8,
   "metadata": {},
   "outputs": [],
   "source": [
    "class Node:\n",
    "    def __init__(self,key):\n",
    "        self.left = None\n",
    "        self.right = None\n",
    "        self.key = key"
   ]
  },
  {
   "cell_type": "code",
   "execution_count": 44,
   "metadata": {},
   "outputs": [],
   "source": [
    "\n",
    "\n",
    "# Function to insert a new node with\n",
    "# given key in BST\n",
    "def insert(node, key):\n",
    "\tif node is None:\n",
    "\t\tnode = Node(key)\n",
    "\telse:\n",
    "\t\tif key < node.key:\n",
    "\t\t\tnode.left = insert(node.left,key)\n",
    "\t\telif key > node.key:\n",
    "\t\t\tnode.right = insert(node.right,key)\n",
    "\treturn node\t\t\n",
    "\n",
    "def heightOfNode(root):\n",
    "\tif root is None:\n",
    "\t\treturn -1\n",
    "\telse:\n",
    "\t\tLroot = heightOfNode(root.left)\n",
    "\t\tRroot = heightOfNode(root.right)\n",
    "\n",
    "\t\tif (Lroot>Rroot):\n",
    "\t\t\treturn Lroot +1\n",
    "\t\telse:\n",
    "\t\t\treturn Rroot +1\n",
    "\n",
    "def printRootLevel(root,level):\n",
    "\tif root is None:\n",
    "\t\treturn\n",
    "\tif level == 0:\n",
    "\t\tprint(root.key, end = ' ')\n",
    "\telse:\n",
    "\t\tprintRootLevel(root.left,level-1)\n",
    "\t\tprintRootLevel(root.right,level-1)\t\n",
    "\n",
    "def printLeafNode(root):\n",
    "\tif root is None:\n",
    "\t\treturn\n",
    "\tif root.left is None and root.right is None:\n",
    "\t\tprint(root.key, end = ' ')\n",
    "\telse:\n",
    "\t\tprintLeafNode(root.left)\n",
    "\t\tprintLeafNode(root.right)\t\n",
    "\n",
    "def printNonLeafNode(root):\n",
    "\tif root is None or (root.left is None and root.right is None):\n",
    "\t\treturn\n",
    "\tif (root.left is not None or root.right is not None):\n",
    "\t\tprint(root.key, end = ' ')\n",
    "\t\n",
    "\tprintNonLeafNode(root.left)\n",
    "\tprintNonLeafNode(root.right)\t\n",
    "\n",
    "\n",
    "# Function to do inorder traversal of BST\n",
    "def inorder(root):\n",
    "\tif root is not None:\n",
    "\t\tinorder(root.left)\n",
    "\t\tprint(root.key, end=\" \")\n",
    "\t\tinorder(root.right)\n",
    "\n",
    "\n",
    "\t\"\"\"\n",
    "\tLet us create following BST\n",
    "\t\t50\n",
    "\t/\t \\\n",
    "\t30\t 70lll\n",
    "\t/ \\ / \\\n",
    "\t20 40 60 80\n",
    "\t\"\"\"\n",
    "\t\n",
    "\t\n"
   ]
  },
  {
   "cell_type": "code",
   "execution_count": 19,
   "metadata": {},
   "outputs": [],
   "source": [
    "root = None\n",
    "\n",
    "root = insert(root, 50)"
   ]
  },
  {
   "cell_type": "code",
   "execution_count": 20,
   "metadata": {},
   "outputs": [
    {
     "data": {
      "text/plain": [
       "<__main__.Node at 0x1aa8b7d6fd0>"
      ]
     },
     "execution_count": 20,
     "metadata": {},
     "output_type": "execute_result"
    }
   ],
   "source": [
    "# Inserting value 30\n",
    "insert(root, 30)\n",
    "insert(root, 20)\n",
    "insert(root, 40)\n",
    "insert(root, 70)\n",
    "insert(root, 60)\n",
    "insert(root, 80)\n"
   ]
  },
  {
   "cell_type": "code",
   "execution_count": 34,
   "metadata": {},
   "outputs": [
    {
     "name": "stdout",
     "output_type": "stream",
     "text": [
      "20 30 40 50 60 70 80 "
     ]
    }
   ],
   "source": [
    "inorder(root)\n"
   ]
  },
  {
   "cell_type": "code",
   "execution_count": 23,
   "metadata": {},
   "outputs": [
    {
     "data": {
      "text/plain": [
       "2"
      ]
     },
     "execution_count": 23,
     "metadata": {},
     "output_type": "execute_result"
    }
   ],
   "source": [
    "heightOfNode(root)"
   ]
  },
  {
   "cell_type": "code",
   "execution_count": 29,
   "metadata": {},
   "outputs": [
    {
     "name": "stdout",
     "output_type": "stream",
     "text": [
      "30 70 "
     ]
    }
   ],
   "source": [
    "printRootLevel(root,1)"
   ]
  },
  {
   "cell_type": "code",
   "execution_count": 31,
   "metadata": {},
   "outputs": [
    {
     "name": "stdout",
     "output_type": "stream",
     "text": [
      "20 40 60 80 "
     ]
    }
   ],
   "source": [
    "printLeafNode(root)"
   ]
  },
  {
   "cell_type": "code",
   "execution_count": 45,
   "metadata": {},
   "outputs": [
    {
     "name": "stdout",
     "output_type": "stream",
     "text": [
      "50 30 70 "
     ]
    }
   ],
   "source": [
    "printNonLeafNode(root)"
   ]
  },
  {
   "cell_type": "code",
   "execution_count": 17,
   "metadata": {},
   "outputs": [],
   "source": [
    "del root"
   ]
  }
 ],
 "metadata": {
  "kernelspec": {
   "display_name": "Python 3",
   "language": "python",
   "name": "python3"
  },
  "language_info": {
   "codemirror_mode": {
    "name": "ipython",
    "version": 3
   },
   "file_extension": ".py",
   "mimetype": "text/x-python",
   "name": "python",
   "nbconvert_exporter": "python",
   "pygments_lexer": "ipython3",
   "version": "3.11.4"
  },
  "orig_nbformat": 4
 },
 "nbformat": 4,
 "nbformat_minor": 2
}
