{
 "cells": [
  {
   "cell_type": "code",
   "execution_count": 2,
   "metadata": {},
   "outputs": [],
   "source": [
    "class Node:\n",
    "    def __init__(self,key):\n",
    "        self.left = None\n",
    "        self.right = None\n",
    "        self.key = key"
   ]
  },
  {
   "cell_type": "code",
   "execution_count": 103,
   "metadata": {},
   "outputs": [],
   "source": [
    "# Function to insert a new node with\n",
    "# given key in BST\n",
    "def insert(node, key):\n",
    "\tif node is None:\n",
    "\t\tnode = Node(key)\n",
    "\telse:\n",
    "\t\tif key < node.key:\n",
    "\t\t\tnode.left = insert(node.left,key)\n",
    "\t\telif key > node.key:\n",
    "\t\t\tnode.right = insert(node.right,key)\n",
    "\treturn node\t\t\n",
    "\n",
    "def heightOfNode(root):\n",
    "\tif root is None:\n",
    "\t\treturn -1\n",
    "\telse:\n",
    "\t\tLroot = heightOfNode(root.left)\n",
    "\t\tRroot = heightOfNode(root.right)\n",
    "\n",
    "\t\tif (Lroot>Rroot):\n",
    "\t\t\treturn Lroot +1\n",
    "\t\telse:\n",
    "\t\t\treturn Rroot +1\n",
    "\n",
    "def printRootLevel(root,level):\n",
    "\tif root is None:\n",
    "\t\treturn\n",
    "\tif level == 0:\n",
    "\t\tprint(root.key, end = ' ')\n",
    "\telse:\n",
    "\t\tprintRootLevel(root.left,level-1)\n",
    "\t\tprintRootLevel(root.right,level-1)\t\n",
    "\n",
    "def printLeafNode(root):\n",
    "\tif root is None:\n",
    "\t\treturn\n",
    "\tif root.left is None and root.right is None:\n",
    "\t\tprint(root.key, end = ' ')\n",
    "\telse:\n",
    "\t\tprintLeafNode(root.left)\n",
    "\t\tprintLeafNode(root.right)\t\n",
    "\n",
    "def printNonLeafNode(root):\n",
    "\tif root is None or (root.left is None and root.right is None):\n",
    "\t\treturn\n",
    "\tif (root.left is not None or root.right is not None):\n",
    "\t\tprint(root.key, end = ' ')\n",
    "\t\n",
    "\tprintNonLeafNode(root.left)\n",
    "\tprintNonLeafNode(root.right)\t\n",
    "\n",
    "def nodeCount(node):\n",
    "    if node is None:\n",
    "        return 0\n",
    "  \n",
    "    else:\n",
    "        return nodeCount(node.left) + nodeCount(node.right) + 1\n",
    "\n",
    "def addNodes(root):\n",
    "\tvalues = []\n",
    "\tdef traverse(root):\n",
    "\t\tif root is None:\n",
    "\t\t\treturn 0\n",
    "\t\telse:\n",
    "\t\t\tvalues.append(root.key)\n",
    "\t\ttraverse(root.left)\n",
    "\t\ttraverse(root.right)\n",
    "\ttraverse(root)\n",
    "\treturn sum(values)\n",
    "\t\t\n",
    "\n",
    "\n",
    "# Function to do inorder traversal of BST\n",
    "def inorder(root):\n",
    "\tif root is not None:\n",
    "\t\tinorder(root.left)\n",
    "\t\tprint(root.key, end=\" \")\n",
    "\t\tinorder(root.right)\n",
    "\n",
    "\n",
    "\t\"\"\"\n",
    "\tLet us create following BST\n",
    "\t\t50\n",
    "\t/\t \\\n",
    "\t30\t 70lll\n",
    "\t/ \\ / \\\n",
    "\t20 40 60 80\n",
    "\t\"\"\"\n",
    "\t\n",
    "# Python program to delete a node of BST\n",
    "\n",
    "# Function that returns the node with minimum\n",
    "# key value found in that tree\n",
    "def minValueNode(node):\n",
    "\tcurrent = node\n",
    "\n",
    "\t# Loop down to find the leftmost leaf\n",
    "\twhile current and current.left is not None:\n",
    "\t\tcurrent = current.left\n",
    "\n",
    "\treturn current\n",
    "\n",
    "# Function that deletes the key and\n",
    "# returns the new root\n",
    "def deleteNode(root, key):\n",
    "\t# base Case\n",
    "\tif root is None:\n",
    "\t\treturn root\n",
    "\n",
    "\t# If the key to be deleted is\n",
    "\t# smaller than the root's key,\n",
    "\t# then it lies in left subtree\n",
    "\tif key < root.key:\n",
    "\t\troot.left = deleteNode(root.left, key)\n",
    "\n",
    "\t# If the key to be deleted is\n",
    "\t# greater than the root's key,\n",
    "\t# then it lies in right subtree\n",
    "\telif key > root.key:\n",
    "\n",
    "\t\troot.right = deleteNode(root.right, key)\n",
    "\n",
    "\t# If key is same as root's key,\n",
    "\t# then this is the node\n",
    "\t# to be deleted\n",
    "\telse:\n",
    "\n",
    "\t\t# Node with only one child\n",
    "\t\t# or no child\n",
    "\t\tif root.left is None:\n",
    "\t\t\ttemp = root.right\n",
    "\t\t\troot = None\n",
    "\t\t\treturn temp\n",
    "\t\telif root.right is None:\n",
    "\t\t\ttemp = root.left\n",
    "\t\t\troot = None\n",
    "\t\t\treturn temp\n",
    "\n",
    "\t\t# Node with two children:\n",
    "\t\t# Get the inorder successor(smallest\n",
    "\t\t# in the right subtree)\n",
    "\t\ttemp = minValueNode(root.right)\n",
    "\n",
    "\t\t# Copy the inorder successor's; we are shifting the right order successor value above the node \n",
    "\t\t# content to this node\n",
    "\t\troot.key = temp.key\n",
    "\n",
    "\t\t# Delete the inorder successor\n",
    "\t\troot.right = deleteNode(root.right, temp.key)\n",
    "\n",
    "\treturn root\n",
    "\n",
    "\n",
    "\n",
    "\n"
   ]
  },
  {
   "cell_type": "code",
   "execution_count": 104,
   "metadata": {},
   "outputs": [
    {
     "data": {
      "text/plain": [
       "<__main__.Node at 0x2719aa69090>"
      ]
     },
     "execution_count": 104,
     "metadata": {},
     "output_type": "execute_result"
    }
   ],
   "source": [
    "root = None\n",
    "\n",
    "root = insert(root, 50)\n",
    "insert(root, 30)\n",
    "insert(root, 20)\n",
    "insert(root, 40)\n",
    "insert(root, 70)\n",
    "insert(root, 60)\n",
    "insert(root, 80)"
   ]
  },
  {
   "cell_type": "code",
   "execution_count": 98,
   "metadata": {},
   "outputs": [
    {
     "name": "stdout",
     "output_type": "stream",
     "text": [
      "20 30 40 50 60 70 80 "
     ]
    }
   ],
   "source": [
    "inorder(root)\n"
   ]
  },
  {
   "cell_type": "code",
   "execution_count": 23,
   "metadata": {},
   "outputs": [
    {
     "data": {
      "text/plain": [
       "2"
      ]
     },
     "execution_count": 23,
     "metadata": {},
     "output_type": "execute_result"
    }
   ],
   "source": [
    "heightOfNode(root)"
   ]
  },
  {
   "cell_type": "code",
   "execution_count": 29,
   "metadata": {},
   "outputs": [
    {
     "name": "stdout",
     "output_type": "stream",
     "text": [
      "30 70 "
     ]
    }
   ],
   "source": [
    "printRootLevel(root,1)"
   ]
  },
  {
   "cell_type": "code",
   "execution_count": 31,
   "metadata": {},
   "outputs": [
    {
     "name": "stdout",
     "output_type": "stream",
     "text": [
      "20 40 60 80 "
     ]
    }
   ],
   "source": [
    "printLeafNode(root)"
   ]
  },
  {
   "cell_type": "code",
   "execution_count": 45,
   "metadata": {},
   "outputs": [
    {
     "name": "stdout",
     "output_type": "stream",
     "text": [
      "50 30 70 "
     ]
    }
   ],
   "source": [
    "printNonLeafNode(root)"
   ]
  },
  {
   "cell_type": "code",
   "execution_count": 22,
   "metadata": {},
   "outputs": [
    {
     "data": {
      "text/plain": [
       "7"
      ]
     },
     "execution_count": 22,
     "metadata": {},
     "output_type": "execute_result"
    }
   ],
   "source": [
    "nodeCount(root)"
   ]
  },
  {
   "cell_type": "code",
   "execution_count": 33,
   "metadata": {},
   "outputs": [
    {
     "data": {
      "text/plain": [
       "350"
      ]
     },
     "execution_count": 33,
     "metadata": {},
     "output_type": "execute_result"
    }
   ],
   "source": [
    "addNodes(root)"
   ]
  },
  {
   "cell_type": "markdown",
   "metadata": {},
   "source": [
    "----------------------Deleting Node Recurssive-------------"
   ]
  },
  {
   "cell_type": "code",
   "execution_count": 105,
   "metadata": {},
   "outputs": [
    {
     "name": "stdout",
     "output_type": "stream",
     "text": [
      "20 30 40 50 60 70 80 "
     ]
    }
   ],
   "source": [
    "inorder(root)\n"
   ]
  },
  {
   "cell_type": "code",
   "execution_count": 108,
   "metadata": {},
   "outputs": [],
   "source": [
    "delroot = deleteNode(root,30)"
   ]
  },
  {
   "cell_type": "code",
   "execution_count": 109,
   "metadata": {},
   "outputs": [
    {
     "name": "stdout",
     "output_type": "stream",
     "text": [
      "20 40 50 60 80 "
     ]
    }
   ],
   "source": [
    "inorder(delroot)"
   ]
  },
  {
   "cell_type": "code",
   "execution_count": 99,
   "metadata": {},
   "outputs": [],
   "source": [
    "delrootTest =delNodes(root,70)"
   ]
  },
  {
   "cell_type": "code",
   "execution_count": 100,
   "metadata": {},
   "outputs": [
    {
     "name": "stdout",
     "output_type": "stream",
     "text": [
      "20 30 40 50 60 80 "
     ]
    }
   ],
   "source": [
    "inorder(delrootTest)"
   ]
  },
  {
   "cell_type": "code",
   "execution_count": 102,
   "metadata": {},
   "outputs": [],
   "source": [
    "del root"
   ]
  }
 ],
 "metadata": {
  "kernelspec": {
   "display_name": "Python 3",
   "language": "python",
   "name": "python3"
  },
  "language_info": {
   "codemirror_mode": {
    "name": "ipython",
    "version": 3
   },
   "file_extension": ".py",
   "mimetype": "text/x-python",
   "name": "python",
   "nbconvert_exporter": "python",
   "pygments_lexer": "ipython3",
   "version": "3.11.4"
  },
  "orig_nbformat": 4
 },
 "nbformat": 4,
 "nbformat_minor": 2
}
