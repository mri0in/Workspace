{
 "cells": [
  {
   "cell_type": "code",
   "execution_count": 1,
   "metadata": {},
   "outputs": [],
   "source": [
    "class Node:\n",
    "    def __init__(self,data):\n",
    "        self.left = None\n",
    "        self.right = None\n",
    "        self.data = data"
   ]
  },
  {
   "cell_type": "code",
   "execution_count": 56,
   "metadata": {},
   "outputs": [],
   "source": [
    "def leftView(root):\n",
    "    maxlevel = [-1] #be careful while using -1 in recur func, because while bactracking to root, value do not convert back to -1 for the root, it reamins 0. Instead use a list and store the first value = -1 [-1]\n",
    "    leftViewTree(root,maxlevel,0)\n",
    "\n",
    "def leftViewTree(root,maxlevel,level):\n",
    "    if root is None:\n",
    "        return\n",
    "    if (maxlevel[0] < level):\n",
    "        print(root.data, end = ' ')\n",
    "        maxlevel[0] = level\n",
    "    leftViewTree(root.left,maxlevel,level+1) \n",
    "    leftViewTree(root.right,maxlevel,level+1)   \n",
    "\n",
    "def rightView(root):\n",
    "    maxlevel = [-1]\n",
    "    rightViewTree(root,maxlevel,0)\n",
    "\n",
    "def rightViewTree(root,maxlevel,level):\n",
    "    if root is None:\n",
    "        return\n",
    "    if ((maxlevel[0]) < level):\n",
    "        print(root.data, end = ' ')\n",
    "        maxlevel[0] = level\n",
    "    rightViewTree(root.right,maxlevel,level+1)   \n",
    "    rightViewTree(root.left,maxlevel,level+1) \n",
    "\n",
    "def topView(root):\n",
    "    d= {}\n",
    "    def traverse(root,key,level):\n",
    "        if root is None:\n",
    "            return \n",
    "        else:\n",
    "            if key not in d:\n",
    "                d[key] = [root.data,level]\n",
    "            elif level < d[key][1] :\n",
    "                d[key] = [root.data,level]\n",
    "\n",
    "        traverse(root.left,key-1,level+1)\n",
    "        traverse(root.right,key+1,level+1)\n",
    "\n",
    "    traverse(root,0,0)  \n",
    "    \n",
    "    for key in sorted(d):\n",
    "        print(d[key][0],end =' ')\n",
    "\n",
    "def bottomView(root):\n",
    "    d= {}\n",
    "    def traverse(root,key,level):\n",
    "        if root is None:\n",
    "            return \n",
    "        else:\n",
    "            if key not in d:\n",
    "                d[key] = [root.data,level]\n",
    "            elif d[key][1] < level:\n",
    "                d[key] = [root.data,level]\n",
    "\n",
    "        traverse(root.left,key-1,level+1)\n",
    "        traverse(root.right,key+1,level+1)\n",
    "\n",
    "    traverse(root,0,0)  \n",
    "    \n",
    "    for key in sorted(d):\n",
    "        print(d[key][0],end =' ')\n",
    "\n"
   ]
  },
  {
   "cell_type": "code",
   "execution_count": 58,
   "metadata": {},
   "outputs": [],
   "source": [
    "root = Node(10)\n",
    "root.left = Node(11)\n",
    "root.left.right = Node(12)\n",
    "root.left.left = Node(7)\n",
    "root.left.left.right = Node(20)\n",
    "root.right = Node(9)\n",
    "root.right.left = Node(15)\n",
    "root.right.right = Node(8)"
   ]
  },
  {
   "cell_type": "code",
   "execution_count": 34,
   "metadata": {},
   "outputs": [
    {
     "name": "stdout",
     "output_type": "stream",
     "text": [
      "10 11 7 20 "
     ]
    }
   ],
   "source": [
    "leftView(root)"
   ]
  },
  {
   "cell_type": "code",
   "execution_count": 22,
   "metadata": {},
   "outputs": [
    {
     "name": "stdout",
     "output_type": "stream",
     "text": [
      "10 9 8 20 "
     ]
    }
   ],
   "source": [
    "rightView(root)"
   ]
  },
  {
   "cell_type": "code",
   "execution_count": 54,
   "metadata": {},
   "outputs": [
    {
     "name": "stdout",
     "output_type": "stream",
     "text": [
      "7 11 10 9 8 "
     ]
    }
   ],
   "source": [
    "topView(root)"
   ]
  },
  {
   "cell_type": "code",
   "execution_count": 59,
   "metadata": {},
   "outputs": [
    {
     "name": "stdout",
     "output_type": "stream",
     "text": [
      "7 20 12 9 8 "
     ]
    }
   ],
   "source": [
    "bottomView(root)"
   ]
  }
 ],
 "metadata": {
  "kernelspec": {
   "display_name": "Python 3",
   "language": "python",
   "name": "python3"
  },
  "language_info": {
   "codemirror_mode": {
    "name": "ipython",
    "version": 3
   },
   "file_extension": ".py",
   "mimetype": "text/x-python",
   "name": "python",
   "nbconvert_exporter": "python",
   "pygments_lexer": "ipython3",
   "version": "3.11.4"
  },
  "orig_nbformat": 4
 },
 "nbformat": 4,
 "nbformat_minor": 2
}
