{
 "cells": [
  {
   "cell_type": "code",
   "execution_count": 2,
   "metadata": {},
   "outputs": [],
   "source": [
    "class Node:\n",
    "    def __init__(self,data):\n",
    "        self.left = None\n",
    "        self.right = None\n",
    "        self.data = data"
   ]
  },
  {
   "cell_type": "code",
   "execution_count": 81,
   "metadata": {},
   "outputs": [],
   "source": [
    "def insertNode(root,key):\n",
    "    if root is None:\n",
    "        root = Node(key)\n",
    "        return\n",
    "    queue = []\n",
    "    queue.append(root)\n",
    "    while(len(queue)):\n",
    "        curr = queue.pop(0)#pop(0) deletes First postion of queue instead of last\n",
    "\n",
    "        if key < curr.data :\n",
    "            if curr.left:\n",
    "                queue.append(curr.left)\n",
    "            else:\n",
    "                curr.left = Node(key)    \n",
    "        elif key > curr.data:\n",
    "            if curr.right:\n",
    "                queue.append(curr.right)\n",
    "            else: \n",
    "                curr.right = Node(key)    \n",
    "\n",
    "                \n",
    "def searchBST(root,key):\n",
    "    if root is None:\n",
    "        return 'Root cannot be Null.'\n",
    "    \n",
    "    queue = []\n",
    "    queue.append(root)\n",
    "    isThere = False\n",
    "\n",
    "    while(queue):\n",
    "        curr = queue.pop(0)\n",
    "        if curr.data == key:\n",
    "            isThere = True\n",
    "            break\n",
    "\n",
    "        if key < curr.data:\n",
    "            if curr.left:\n",
    "                queue.append(curr.left)\n",
    "        elif key > curr.data:\n",
    "            if curr.right:\n",
    "                queue.append(curr.right)\n",
    "\n",
    "    if isThere:\n",
    "        print(\"The Given Node\",key,\"is Present.\")\n",
    "    else:\n",
    "        print(\"The Given Node\",key,\"not-Found.\")\n",
    "\n",
    "def deleteOnlyleafNode(root,key):\n",
    "    if root is None:\n",
    "        return 'Root cannot be Null.'\n",
    "    if root.data == key:\n",
    "        return 'Key cannot be equal to root value.'\n",
    "       \n",
    "    queue = []\n",
    "    queue.append(root)\n",
    "    \n",
    "    while(queue):\n",
    "        curr = queue.pop(0)\n",
    "        if (curr.left is not None and curr.left.data == key):\n",
    "            if curr.left.left is None  and curr.left.right is None:\n",
    "                curr.left = None\n",
    "                print(\"The given key\",key,'been Deleted!')\n",
    "                break\n",
    "            else:\n",
    "                print('The given key', key,'is Not a Leaf node!')\n",
    "        elif (curr.right is not None and curr.right.data == key):\n",
    "            if curr.right.left is None  and curr.right.right is None:\n",
    "                curr.right = None\n",
    "                print(\"The given key\",key,'been Deleted!')\n",
    "                break\n",
    "            else:\n",
    "                print('The given key', key,'is Not a Leaf node!')\n",
    "            \n",
    "\n",
    "        if key < curr.data:\n",
    "            if curr.left:\n",
    "                queue.append(curr.left)\n",
    "        elif key > curr.data:\n",
    "            if curr.right:\n",
    "                queue.append(curr.right)\n",
    "\n",
    "def deleteSingleChildNode(root,key):\n",
    "    if root is None:\n",
    "        return 'Root cannot be Null.'\n",
    "    if root.data == key:\n",
    "        return 'Key cannot be equal to root value.'\n",
    "       \n",
    "    queue = []\n",
    "    queue.append(root)\n",
    "    temp = []\n",
    "    while(queue):\n",
    "        curr = queue.pop(0)\n",
    "        if curr.data == key:\n",
    "            if curr.right is not None and curr.left is not None:\n",
    "                print(\"The given node\",key,'do not have single child!')\n",
    "                break\n",
    "            elif curr.left:\n",
    "                curr = curr.left \n",
    "                buck = temp.pop()\n",
    "                buck.left = curr\n",
    "                print(\"The given key\",key,'been Deleted!')\n",
    "                break\n",
    "            elif curr.right:\n",
    "                curr =  curr.right\n",
    "                buck = temp.pop()\n",
    "                buck.right = curr\n",
    "                print(\"The given key\",key,'been Deleted!')\n",
    "                break\n",
    "            else:\n",
    "                print(\"The given node\",key,'is Leaf Node, and cannot be deleted!')\n",
    "\n",
    "\n",
    "        if key < curr.data:\n",
    "            if curr.left:\n",
    "                temp.append(curr)\n",
    "                queue.append(curr.left)\n",
    "        elif key > curr.data:\n",
    "            if curr.right:\n",
    "                temp.append(curr)\n",
    "                queue.append(curr.right)\n",
    "    temp.clear()\n",
    "\n",
    "def deleteDoubleChildNode(root,key):\n",
    "    if root is None:\n",
    "        return 'Root cannot be Null.'\n",
    "    temp = []\n",
    "\n",
    "    queue = []\n",
    "    queue.append(root)\n",
    "    \n",
    "    while(queue):\n",
    "        curr = queue.pop(0)\n",
    "\n",
    "        if (curr.data == key and curr.left is not None and curr.right is not None):\n",
    "                if (len(temp) == 0) :#case for deleting the root, where temp is empty\n",
    "                    \n",
    "                    old = curr\n",
    "                    prev = curr.left\n",
    "                    succ = curr.right\n",
    "                    curr = curr.right\n",
    "                    old.left = old.right = None\n",
    "                    if curr.left:\n",
    "                        newRoot = curr.left\n",
    "                        curr.left = None\n",
    "                        newRoot.left = prev\n",
    "                        newRoot.right = succ\n",
    "                        root = newRoot\n",
    "                        print(\"The given key\",key,'been Deleted!')\n",
    "                        return root\n",
    "                    else:\n",
    "                        newRoot = curr \n",
    "                        \n",
    "                        newRoot.left = prev\n",
    "                        root = newRoot   \n",
    "                        print(\"The given key\",key,'been Deleted!')\n",
    "                        return  root\n",
    "                    \n",
    "\n",
    "                else:\n",
    "                    buck = temp.pop()    \n",
    "                    if buck.data > key: \n",
    "                        succ = curr.left\n",
    "        \n",
    "                        curr = curr.right\n",
    "\n",
    "                        buck.left = curr\n",
    "                        curr.left = succ\n",
    "                        print(\"The given key\",key,'been Deleted!')\n",
    "                        break\n",
    "\n",
    "                    elif buck.data < key:\n",
    "                        succ = curr.right\n",
    "\n",
    "                        curr = curr.left\n",
    "\n",
    "                        buck.right = curr\n",
    "                        curr.right = succ\n",
    "                        print(\"The given Node\",key,'been Deleted!')\n",
    "                        break\n",
    "            \n",
    "        \n",
    "\n",
    "            \n",
    "        if key < curr.data:\n",
    "            if curr.left:\n",
    "                temp.append(curr)\n",
    "                queue.append(curr.left)\n",
    "        elif key > curr.data:\n",
    "            if curr.right:\n",
    "                temp.append(curr)\n",
    "                queue.append(curr.right)\n",
    "        else:\n",
    "            print('Node',key,'cannot be deleted!') \n",
    "            break       \n",
    "    temp.clear()\n",
    "\n",
    "\n",
    "# Function that returns the node with minimum\n",
    "# key value found in that tree\n",
    "def minValueNode(node):\n",
    "\tcurrent = node\n",
    "\n",
    "\t# Loop down to find the leftmost leaf\n",
    "\twhile current and current.left is not None:\n",
    "\t\tcurrent = current.left\n",
    "\n",
    "\treturn current\n",
    "\n",
    "\n",
    "\n",
    "\n",
    "\n",
    "\n",
    "def inOrder_Iterative(root):\n",
    "    Stack = []\n",
    "    \n",
    "    curr = root\n",
    "    while (True):\n",
    "        if curr != None:\n",
    "            Stack.append(curr)\n",
    "            curr = curr.left\n",
    "        elif Stack:\n",
    "            curr = Stack.pop()\n",
    "            print(curr.data, end=\" \")\n",
    "            curr = curr.right\n",
    "        else:\n",
    "            break \n",
    "    print()\n"
   ]
  },
  {
   "cell_type": "code",
   "execution_count": 4,
   "metadata": {},
   "outputs": [],
   "source": [
    "root = Node(10)"
   ]
  },
  {
   "cell_type": "code",
   "execution_count": 27,
   "metadata": {},
   "outputs": [],
   "source": [
    "insertNode(root,9)\n",
    "insertNode(root,7)\n",
    "insertNode(root,8)\n",
    "insertNode(root,15)\n",
    "insertNode(root,12)\n",
    "insertNode(root,16)"
   ]
  },
  {
   "cell_type": "code",
   "execution_count": 38,
   "metadata": {},
   "outputs": [
    {
     "name": "stdout",
     "output_type": "stream",
     "text": [
      "10 \n"
     ]
    }
   ],
   "source": [
    "inOrder_Iterative(root)"
   ]
  },
  {
   "cell_type": "code",
   "execution_count": 26,
   "metadata": {},
   "outputs": [
    {
     "name": "stdout",
     "output_type": "stream",
     "text": [
      "The Given Node 12 not-Found.\n"
     ]
    }
   ],
   "source": [
    "searchBST(root,12)"
   ]
  },
  {
   "cell_type": "code",
   "execution_count": 37,
   "metadata": {},
   "outputs": [
    {
     "name": "stdout",
     "output_type": "stream",
     "text": [
      "The given key 9 been Deleted!\n"
     ]
    }
   ],
   "source": [
    "deleteOnlyleafNode(root,9)"
   ]
  },
  {
   "cell_type": "markdown",
   "metadata": {},
   "source": [
    "***************Deleting Single Node of BST*******************"
   ]
  },
  {
   "cell_type": "code",
   "execution_count": 89,
   "metadata": {},
   "outputs": [],
   "source": [
    "rootdel = Node(20)"
   ]
  },
  {
   "cell_type": "code",
   "execution_count": 90,
   "metadata": {},
   "outputs": [],
   "source": [
    "insertNode(rootdel,14)\n",
    "insertNode(rootdel,15)\n",
    "insertNode(rootdel,10)\n",
    "insertNode(rootdel,11)\n",
    "insertNode(rootdel,8)\n",
    "insertNode(rootdel,9)\n",
    "insertNode(rootdel,6)\n",
    "insertNode(rootdel,7)\n",
    "insertNode(rootdel,5)\n",
    "\n"
   ]
  },
  {
   "cell_type": "code",
   "execution_count": 91,
   "metadata": {},
   "outputs": [],
   "source": [
    "insertNode(rootdel,22)\n",
    "insertNode(rootdel,21)\n",
    "insertNode(rootdel,24)\n",
    "insertNode(rootdel,23)\n",
    "insertNode(rootdel,26)\n",
    "insertNode(rootdel,25)\n",
    "insertNode(rootdel,28)\n",
    "insertNode(rootdel,27)\n",
    "insertNode(rootdel,30)"
   ]
  },
  {
   "cell_type": "code",
   "execution_count": 112,
   "metadata": {},
   "outputs": [
    {
     "name": "stdout",
     "output_type": "stream",
     "text": [
      "20 \n"
     ]
    }
   ],
   "source": [
    "inOrder_Iterative(rootdel)"
   ]
  },
  {
   "cell_type": "code",
   "execution_count": 48,
   "metadata": {},
   "outputs": [
    {
     "data": {
      "text/plain": [
       "'Key cannot be equal to root value.'"
      ]
     },
     "execution_count": 48,
     "metadata": {},
     "output_type": "execute_result"
    }
   ],
   "source": [
    "deleteSingleChildNode(rootdel,19)"
   ]
  },
  {
   "cell_type": "code",
   "execution_count": 108,
   "metadata": {},
   "outputs": [
    {
     "name": "stdout",
     "output_type": "stream",
     "text": [
      "The given key 14 been Deleted!\n"
     ]
    }
   ],
   "source": [
    "deleteDoubleChildNode(rootdel,14)"
   ]
  },
  {
   "cell_type": "code",
   "execution_count": 110,
   "metadata": {},
   "outputs": [
    {
     "name": "stdout",
     "output_type": "stream",
     "text": [
      "The given key 20 been Deleted!\n"
     ]
    }
   ],
   "source": [
    "#use it only for deleting Original Root\n",
    "forRoot = deleteDoubleChildNode(rootdel,20)"
   ]
  },
  {
   "cell_type": "code",
   "execution_count": 111,
   "metadata": {},
   "outputs": [
    {
     "name": "stdout",
     "output_type": "stream",
     "text": [
      "5 7 9 11 15 21 23 25 27 30 \n"
     ]
    }
   ],
   "source": [
    "inOrder_Iterative(forRoot)"
   ]
  },
  {
   "cell_type": "code",
   "execution_count": 88,
   "metadata": {},
   "outputs": [],
   "source": [
    "del rootdel"
   ]
  }
 ],
 "metadata": {
  "kernelspec": {
   "display_name": "Python 3",
   "language": "python",
   "name": "python3"
  },
  "language_info": {
   "codemirror_mode": {
    "name": "ipython",
    "version": 3
   },
   "file_extension": ".py",
   "mimetype": "text/x-python",
   "name": "python",
   "nbconvert_exporter": "python",
   "pygments_lexer": "ipython3",
   "version": "3.11.4"
  },
  "orig_nbformat": 4
 },
 "nbformat": 4,
 "nbformat_minor": 2
}
