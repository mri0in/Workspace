{
 "cells": [
  {
   "cell_type": "code",
   "execution_count": 26,
   "metadata": {},
   "outputs": [],
   "source": [
    "def maxHeapify(a,heapSize,i):\n",
    "    leftChild = 2*i + 1\n",
    "    rightChild = 2*i + 2\n",
    "    #heapSize = len(a)\n",
    "\n",
    "    largest = i\n",
    "    if (leftChild < heapSize and a[leftChild] > a[i]):\n",
    "        largest = leftChild\n",
    "\n",
    "    if (rightChild < heapSize and a[rightChild] > a[largest]):\n",
    "        largest = rightChild  \n",
    "\n",
    "    if (largest != i):   \n",
    "        # swap elements\n",
    "        a[i], a[largest] = a[largest], a[i]\n",
    "        maxHeapify(a,heapSize,largest)\n",
    "\n",
    "def build_max_heap(a):\n",
    "    heapSize = len(a)\n",
    "\n",
    "    for i in range(heapSize//2, 0, -1):\n",
    "        maxHeapify(a,heapSize,i)\n",
    "\n",
    "    return a    \n",
    "\n",
    "    \n",
    "\n"
   ]
  },
  {
   "cell_type": "code",
   "execution_count": 41,
   "metadata": {},
   "outputs": [],
   "source": [
    "arr = [0,2,8,4,15,5,3,11,5,14,12,9]"
   ]
  },
  {
   "cell_type": "code",
   "execution_count": 42,
   "metadata": {},
   "outputs": [
    {
     "data": {
      "text/plain": [
       "[0, 15, 9, 11, 14, 8, 3, 4, 5, 2, 12, 5]"
      ]
     },
     "execution_count": 42,
     "metadata": {},
     "output_type": "execute_result"
    }
   ],
   "source": [
    "build_max_heap(arr)"
   ]
  },
  {
   "cell_type": "code",
   "execution_count": 4,
   "metadata": {},
   "outputs": [
    {
     "name": "stdout",
     "output_type": "stream",
     "text": [
      "None\n"
     ]
    }
   ],
   "source": [
    "print()"
   ]
  }
 ],
 "metadata": {
  "kernelspec": {
   "display_name": "Python 3",
   "language": "python",
   "name": "python3"
  },
  "language_info": {
   "codemirror_mode": {
    "name": "ipython",
    "version": 3
   },
   "file_extension": ".py",
   "mimetype": "text/x-python",
   "name": "python",
   "nbconvert_exporter": "python",
   "pygments_lexer": "ipython3",
   "version": "3.11.4"
  }
 },
 "nbformat": 4,
 "nbformat_minor": 2
}
