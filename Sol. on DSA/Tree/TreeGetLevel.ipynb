{
 "cells": [
  {
   "cell_type": "code",
   "execution_count": 1,
   "metadata": {},
   "outputs": [],
   "source": [
    "class Node:\n",
    "    def __init__(self,data):\n",
    "        self.left = None\n",
    "        self.right = None\n",
    "        self.data = data"
   ]
  },
  {
   "cell_type": "code",
   "execution_count": 8,
   "metadata": {},
   "outputs": [],
   "source": [
    "def getLevelofNode(root,data):\n",
    "    return getLevelHelper(root, data, 0)\n",
    "\n",
    "\n",
    "def getLevelHelper(root,data, level):\n",
    "    if root == None:\n",
    "        return 0\n",
    "    else:\n",
    "        if (root.data == data):\n",
    "            return level\n",
    "        l_downLevel = getLevelHelper(root.left, data, level+1)\n",
    "        if (l_downLevel !=0):\n",
    "            return l_downLevel\n",
    "        r_downLevel = getLevelHelper(root.right, data, level+1)\n",
    "        return r_downLevel\n",
    "        \n"
   ]
  },
  {
   "cell_type": "code",
   "execution_count": 10,
   "metadata": {},
   "outputs": [
    {
     "name": "stdout",
     "output_type": "stream",
     "text": [
      "Level of 3 is 0\n",
      "Level of 2 is 1\n",
      "Level of 5 is 1\n",
      "Level of 1 is 2\n",
      "Level of 4 is 2\n"
     ]
    }
   ],
   "source": [
    "root = Node(3)\n",
    "root.left = Node(2)\n",
    "root.right = Node(5)\n",
    "root.left.left = Node(1)\n",
    "root.left.right = Node(4)\n",
    "print(\"Level of\", 3,\"is\", getLevelofNode(root, 3))\n",
    "print(\"Level of\", 2,\"is\", getLevelofNode(root, 2))\n",
    "print(\"Level of\", 5,\"is\", getLevelofNode(root, 5))\n",
    "print(\"Level of\", 1,\"is\", getLevelofNode(root, 1))\n",
    "print(\"Level of\", 4,\"is\", getLevelofNode(root, 4))\n"
   ]
  }
 ],
 "metadata": {
  "kernelspec": {
   "display_name": "Python 3",
   "language": "python",
   "name": "python3"
  },
  "language_info": {
   "codemirror_mode": {
    "name": "ipython",
    "version": 3
   },
   "file_extension": ".py",
   "mimetype": "text/x-python",
   "name": "python",
   "nbconvert_exporter": "python",
   "pygments_lexer": "ipython3",
   "version": "3.11.4"
  },
  "orig_nbformat": 4
 },
 "nbformat": 4,
 "nbformat_minor": 2
}
