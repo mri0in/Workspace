{
 "cells": [
  {
   "cell_type": "code",
   "execution_count": 31,
   "metadata": {},
   "outputs": [],
   "source": [
    "class Node:\n",
    "    def __init__(self,data):\n",
    "        self.left = None\n",
    "        self.right = None\n",
    "        self.data = data"
   ]
  },
  {
   "cell_type": "code",
   "execution_count": 58,
   "metadata": {},
   "outputs": [],
   "source": [
    "def LevelOrderTraversal(root):\n",
    "    height = heightOfTree(root)\n",
    "    for i in range(0, height+1):\n",
    "        printCurrentLevelOrder(root, i)\n",
    "\n",
    "\n",
    "def heightOfTree(root):\n",
    "    if root is None:\n",
    "        return -1 # use '-1' if height is defined by counting edges and '0' if height includes total nodes \n",
    "    else:\n",
    "        lHeight = heightOfTree(root.left)\n",
    "        rHeight = heightOfTree(root.left)\n",
    "        if (lHeight > rHeight):\n",
    "            return lHeight+1\n",
    "        else:\n",
    "            return rHeight+1\n",
    "        \n",
    "def printCurrentLevelOrder(root, level):\n",
    "    if root is None:\n",
    "        return -1\n",
    "    if level == 0:\n",
    "        print(root.data, end =\" \")\n",
    "    elif level > 0:\n",
    "        printCurrentLevelOrder(root.left, level-1)\n",
    "        printCurrentLevelOrder(root.right, level-1)\n",
    "\n",
    "################ Using Queue to print level order of Tree has advantage over recurssion:############\n",
    "# Time Complexity: \"O(N)\" where N is the number of nodes in the binary tree.\n",
    "# Auxiliary Space: \"O(N)\" where N is the number of nodes in the binary tree.\n",
    "def printLevelOrderQueue(root):\n",
    "    if root is None:\n",
    "        return \n",
    "    \n",
    "    queue = []\n",
    "    queue.append(root)\n",
    "\n",
    "    while (len(queue)>0):\n",
    "        print(queue[0].data, end=\" \")\n",
    "        node = queue.pop(0)\n",
    "\n",
    "        if node.left is not None:\n",
    "            queue.append(node.left)\n",
    "        if node.right is not None:\n",
    "            queue.append(node.right)\n",
    "\n",
    "\n",
    "    \n",
    " "
   ]
  },
  {
   "cell_type": "code",
   "execution_count": 56,
   "metadata": {},
   "outputs": [],
   "source": [
    "root = Node(1)\n",
    "root.left = Node(2)\n",
    "root.right = Node(3)\n",
    "root.left.left = Node(4)\n",
    "root.left.right = Node(5)\n"
   ]
  },
  {
   "cell_type": "code",
   "execution_count": 54,
   "metadata": {},
   "outputs": [
    {
     "name": "stdout",
     "output_type": "stream",
     "text": [
      "Level order traversal of binary tree is -\n",
      "1 2 3 4 5 "
     ]
    }
   ],
   "source": [
    "print(\"Level order traversal of binary tree is -\")\n",
    "LevelOrderTraversal(root)"
   ]
  },
  {
   "cell_type": "code",
   "execution_count": 59,
   "metadata": {},
   "outputs": [
    {
     "name": "stdout",
     "output_type": "stream",
     "text": [
      "Level order traversal of binary tree is -\n",
      "1 2 3 4 5 "
     ]
    }
   ],
   "source": [
    "print(\"Level order traversal of binary tree is -\")\n",
    "printLevelOrderQueue(root)"
   ]
  }
 ],
 "metadata": {
  "kernelspec": {
   "display_name": "Python 3",
   "language": "python",
   "name": "python3"
  },
  "language_info": {
   "codemirror_mode": {
    "name": "ipython",
    "version": 3
   },
   "file_extension": ".py",
   "mimetype": "text/x-python",
   "name": "python",
   "nbconvert_exporter": "python",
   "pygments_lexer": "ipython3",
   "version": "3.11.4"
  },
  "orig_nbformat": 4
 },
 "nbformat": 4,
 "nbformat_minor": 2
}
