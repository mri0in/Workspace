{
 "cells": [
  {
   "cell_type": "code",
   "execution_count": 1,
   "metadata": {},
   "outputs": [],
   "source": [
    "class Node:\n",
    "    def __init__(self,data):\n",
    "        self.left = None\n",
    "        self.right = None\n",
    "        self.data = data"
   ]
  },
  {
   "cell_type": "code",
   "execution_count": 26,
   "metadata": {},
   "outputs": [],
   "source": [
    "class visitedNode:\n",
    "    def __init__(self,data):\n",
    "        self.left = None\n",
    "        self.right = None\n",
    "        self.data = data\n",
    "        self.visited = False\n",
    "        "
   ]
  },
  {
   "cell_type": "code",
   "execution_count": 21,
   "metadata": {},
   "outputs": [],
   "source": [
    "def postOrderTraverse(root):\n",
    "    curr = root\n",
    "    visited = set() #List or Tuple is not used as they are ordered means we have to use the position values[] of each data to fetch it, while set are unordered and any data can be accessed without knowing it's position.\n",
    "    while (curr and curr not in visited):\n",
    "        if (curr.left and curr.left not in visited):\n",
    "            curr = curr.left\n",
    "        elif (curr.right and curr.right not in visited):\n",
    "            curr = curr.right\n",
    "        else:\n",
    "            print(curr.data, end=\" \") \n",
    "            visited.add(curr) #node is added to the Set 'visited' and not node-data. so node with same/repeated data can be added to the set.\n",
    "            curr = root  # o(n^2) as we move pointer back to head after visiting every node.\n"
   ]
  },
  {
   "cell_type": "code",
   "execution_count": 24,
   "metadata": {},
   "outputs": [],
   "source": [
    "def postorderVisitedNode(root):\n",
    "    curr = root\n",
    "    while (curr and not curr.visited):\n",
    "        if (curr.left and not curr.left.visited):\n",
    "            curr = curr.left\n",
    "        elif (curr.right and not curr.right.visited):\n",
    "            curr = curr.right\n",
    "        else:\n",
    "            print(curr.data, end=\" \")\n",
    "            curr.visited = True\n",
    "            curr = root\n"
   ]
  },
  {
   "cell_type": "code",
   "execution_count": 19,
   "metadata": {},
   "outputs": [],
   "source": [
    "root = Node(10)\n",
    "root.left = Node(11)\n",
    "root.left.left = Node(7)\n",
    "root.right = Node(9)\n",
    "root.right.left = Node(15)\n",
    "root.right.right = Node(8)\n",
    " \n",
    " "
   ]
  },
  {
   "cell_type": "code",
   "execution_count": 22,
   "metadata": {},
   "outputs": [
    {
     "name": "stdout",
     "output_type": "stream",
     "text": [
      "7 11 15 8 9 10 "
     ]
    }
   ],
   "source": [
    "postOrderTraverse(root)"
   ]
  },
  {
   "cell_type": "code",
   "execution_count": 32,
   "metadata": {},
   "outputs": [],
   "source": [
    "head = visitedNode(10)\n",
    "head.left = visitedNode(11)\n",
    "head.left.left = visitedNode(7)\n",
    "head.right = visitedNode(9)\n",
    "head.right.left = visitedNode(15)\n",
    "head.right.right = visitedNode(8)"
   ]
  },
  {
   "cell_type": "code",
   "execution_count": 33,
   "metadata": {},
   "outputs": [
    {
     "name": "stdout",
     "output_type": "stream",
     "text": [
      "7 11 15 8 9 10 "
     ]
    }
   ],
   "source": [
    "postorderVisitedNode(head)"
   ]
  }
 ],
 "metadata": {
  "kernelspec": {
   "display_name": "Python 3",
   "language": "python",
   "name": "python3"
  },
  "language_info": {
   "codemirror_mode": {
    "name": "ipython",
    "version": 3
   },
   "file_extension": ".py",
   "mimetype": "text/x-python",
   "name": "python",
   "nbconvert_exporter": "python",
   "pygments_lexer": "ipython3",
   "version": "3.11.4"
  },
  "orig_nbformat": 4
 },
 "nbformat": 4,
 "nbformat_minor": 2
}
