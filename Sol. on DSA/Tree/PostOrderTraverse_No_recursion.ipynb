{
 "cells": [
  {
   "cell_type": "code",
   "execution_count": 2,
   "metadata": {},
   "outputs": [],
   "source": [
    "class Node:\n",
    "    def __init__(self,data):\n",
    "        self.left = None\n",
    "        self.right = None\n",
    "        self.data = data"
   ]
  },
  {
   "cell_type": "code",
   "execution_count": 3,
   "metadata": {},
   "outputs": [],
   "source": [
    "class visitedNode:\n",
    "    def __init__(self,data):\n",
    "        self.left = None\n",
    "        self.right = None\n",
    "        self.data = data\n",
    "        self.visited = False\n",
    "        "
   ]
  },
  {
   "cell_type": "code",
   "execution_count": 21,
   "metadata": {},
   "outputs": [],
   "source": [
    "def postOrderTraverse(root):\n",
    "    curr = root\n",
    "    visited = set() #List or Tuple is not used as they are ordered means we have to use the position values[] of each data to fetch it, while set are unordered and any data can be accessed without knowing it's position.\n",
    "    while (curr and curr not in visited):\n",
    "        if (curr.left and curr.left not in visited):\n",
    "            curr = curr.left\n",
    "        elif (curr.right and curr.right not in visited):\n",
    "            curr = curr.right\n",
    "        else:\n",
    "            print(curr.data, end=\" \") \n",
    "            visited.add(curr) #node is added to the Set 'visited' and not node-data. so node with same/repeated data can be added to the set.\n",
    "            curr = root  # o(n^2) as we move pointer back to head after visiting every node.\n"
   ]
  },
  {
   "cell_type": "code",
   "execution_count": 1,
   "metadata": {},
   "outputs": [],
   "source": [
    "def postOrderIterativeStacks(root):\n",
    "    s1= []\n",
    "    s2 = []\n",
    "    s1.append(root)\n",
    "    while(s1):\n",
    "        curr = s1.pop()#Pop the last item not the first i.e(0)\n",
    "        s2.append(curr)\n",
    "        if curr.left:\n",
    "            s1.append(curr.left)\n",
    "        if curr.right:\n",
    "            s1.append(curr.right) \n",
    "    while (s2):\n",
    "        node = s2.pop()\n",
    "        print(node.data, end = \" \")\n",
    "\n",
    "\n",
    "\n"
   ]
  },
  {
   "cell_type": "code",
   "execution_count": 9,
   "metadata": {},
   "outputs": [],
   "source": [
    "def postOrderIterOneStack(root):\n",
    "     \n",
    "    stack = []\n",
    "    while (True):\n",
    "        while (root != None):\n",
    "            stack.append(root)\n",
    "            stack.append(root)\n",
    "            root = root.left\n",
    "\n",
    "        if (len(stack)==0):\n",
    "            break\n",
    "        \n",
    "        root = stack.pop()\n",
    "\n",
    "        if (len(stack) > 0 and root == stack[-1] ):\n",
    "            root = root.right  \n",
    "        else:\n",
    "            print(root.data, end=\" \")  \n",
    "            root = None\n",
    "\n",
    "     \n",
    "    "
   ]
  },
  {
   "cell_type": "code",
   "execution_count": 4,
   "metadata": {},
   "outputs": [],
   "source": [
    "def postorderVisitedNode(root):\n",
    "    if root is None:\n",
    "        return\n",
    "    curr = root\n",
    "    while (curr and not curr.visited):\n",
    "        if (curr.left and not curr.left.visited):\n",
    "            curr = curr.left\n",
    "        elif (curr.right and not curr.right.visited):\n",
    "            curr = curr.right\n",
    "        else:\n",
    "            print(curr.data, end=\" \")\n",
    "            curr.visited = True\n",
    "            curr = root #o(n^2) but space complexity\n"
   ]
  },
  {
   "cell_type": "code",
   "execution_count": 10,
   "metadata": {},
   "outputs": [],
   "source": [
    "root = Node(10)\n",
    "root.left = Node(11)\n",
    "root.left.left = Node(7)\n",
    "root.right = Node(9)\n",
    "root.right.left = Node(15)\n",
    "root.right.right = Node(8)\n",
    " \n",
    " "
   ]
  },
  {
   "cell_type": "code",
   "execution_count": 22,
   "metadata": {},
   "outputs": [
    {
     "name": "stdout",
     "output_type": "stream",
     "text": [
      "7 11 15 8 9 10 "
     ]
    }
   ],
   "source": [
    "postOrderTraverse(root)"
   ]
  },
  {
   "cell_type": "code",
   "execution_count": 6,
   "metadata": {},
   "outputs": [
    {
     "name": "stdout",
     "output_type": "stream",
     "text": [
      "7 11 15 8 9 10 "
     ]
    }
   ],
   "source": [
    "postOrderIterativeStacks(root)"
   ]
  },
  {
   "cell_type": "code",
   "execution_count": 11,
   "metadata": {},
   "outputs": [
    {
     "name": "stdout",
     "output_type": "stream",
     "text": [
      "7 11 15 8 9 10 "
     ]
    }
   ],
   "source": [
    "postOrderIterOneStack(root)"
   ]
  },
  {
   "cell_type": "code",
   "execution_count": 5,
   "metadata": {},
   "outputs": [],
   "source": [
    "head = visitedNode(10)\n",
    "head.left = visitedNode(11)\n",
    "head.left.left = visitedNode(7)\n",
    "head.right = visitedNode(9)\n",
    "head.right.left = visitedNode(15)\n",
    "head.right.right = visitedNode(8)"
   ]
  },
  {
   "cell_type": "code",
   "execution_count": 6,
   "metadata": {},
   "outputs": [
    {
     "name": "stdout",
     "output_type": "stream",
     "text": [
      "7 11 15 8 9 10 "
     ]
    }
   ],
   "source": [
    "postorderVisitedNode(head)"
   ]
  }
 ],
 "metadata": {
  "kernelspec": {
   "display_name": "Python 3",
   "language": "python",
   "name": "python3"
  },
  "language_info": {
   "codemirror_mode": {
    "name": "ipython",
    "version": 3
   },
   "file_extension": ".py",
   "mimetype": "text/x-python",
   "name": "python",
   "nbconvert_exporter": "python",
   "pygments_lexer": "ipython3",
   "version": "3.11.4"
  },
  "orig_nbformat": 4
 },
 "nbformat": 4,
 "nbformat_minor": 2
}
