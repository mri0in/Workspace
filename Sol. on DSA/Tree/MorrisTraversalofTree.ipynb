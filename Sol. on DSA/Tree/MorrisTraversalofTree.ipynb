{
 "cells": [
  {
   "cell_type": "code",
   "execution_count": 2,
   "metadata": {},
   "outputs": [],
   "source": [
    "class Node:\n",
    "    def __init__(self,data):\n",
    "        self.left = None\n",
    "        self.right = None\n",
    "        self.data = data"
   ]
  },
  {
   "cell_type": "code",
   "execution_count": 17,
   "metadata": {},
   "outputs": [],
   "source": [
    "#Morris Traversal has worst Time complexity of O(nlog(n)) but space complexity of O(1), though it has worse Time complexity than that of Recursive Method, it take's very small space compared to recursive function.\n",
    "def morrisTraversalPostorder(root):\n",
    "    stack = []\n",
    "    curr = root\n",
    "    while curr != None:\n",
    "        if curr.right == None:\n",
    "            stack.append(curr)\n",
    "            curr = curr.left#when rightmost node is null, curr.left helps to connect back to previous node\n",
    "        else: \n",
    "            predecessor = curr.right #using 'predecessor' as another pointer apart from 'current'\n",
    "            while (predecessor.left != None and predecessor.left != curr):\n",
    "                predecessor = predecessor.left # using while loop shift to the last node whose left is null\n",
    "\n",
    "            if predecessor.left == None:\n",
    "                # CAUTION! here we are appending the 'Current' and not 'predecessor.left', then linking the 'predecessor.left'(which is None) to Current as if we are providing a backtracking path to current node, then we shift the Current to it's right node. Hence making a complete loop from 'current 'to last left node(null)\n",
    "                stack.append(curr)\n",
    "                predecessor.left = curr # if part is used for creating conn to it's prev node(i.ecurr)\n",
    "                curr = curr.right\n",
    "            else:\n",
    "                #it's gets executed when 'predecessor.left' is not Null, means it been already previously linked to then current node. here we cut it's linkage and then shift the current node to it's left\n",
    "                predecessor.left = None # //else part is used for Deleting the previous( already conn thread in if part) conn while going back to root through thread\n",
    "                curr = curr.left\n",
    "    while stack:\n",
    "        node = stack.pop() #the node stored in stack is opposite to postorder hence we pop the last item of the stack.           \n",
    "        print(node.data, end = \" \")\n",
    "\n",
    "   \n",
    "def morrisTraversalInorder(root):\n",
    "    curr = root\n",
    "    while curr != None:\n",
    "        if curr.left == None:\n",
    "            print(curr.data, end = \" \")\n",
    "            curr = curr.right #when lefttmost node is null, curr.right helps to connect back to previous node\n",
    "        else:\n",
    "            predecessor = curr.left\n",
    "            while (predecessor.right != None and predecessor.right != curr):\n",
    "                predecessor = predecessor.right \n",
    "\n",
    "            if  predecessor.right == None: #if rightmost of 1st left subtree is None\n",
    "                predecessor.right = curr # we connect to the curr/back thread conn\n",
    "                curr = curr.left \n",
    "            else:\n",
    "               print (curr.data, end = \" \") #print the current, This gets exec when curr.right is already connected to it's prev node\n",
    "               predecessor.right = None #cut the thread\n",
    "               curr = curr.right # curr.r\n",
    "\n",
    "\n",
    "def morrisTraversalPreorder(root):\n",
    "    \n",
    "    curr = root\n",
    "    while curr != None:\n",
    "        if curr.left == None:\n",
    "            print(curr.data, end = \" \")\n",
    "            curr = curr.right#when leftmost node is null, curr.right helps to connect back to previous node\n",
    "        else: \n",
    "            predecessor = curr.left \n",
    "            while (predecessor.right != None and predecessor.right != curr):\n",
    "                predecessor = predecessor.right \n",
    "\n",
    "            if predecessor.right == curr:# only gets exec if connection to prev node is already connected; nodeif pre.right = curr , we cut that connection and shift current to right\n",
    "                predecessor.right = None#for preorder disconnect the pre.right in If part\n",
    "                curr = curr.right\n",
    "            else:\n",
    "                #here (in preorder) else part used to create the conn\n",
    "                #Instead in if part, for preorder, we append/print in else part and make pre.right conn to curr and shift curr to left part\n",
    "                print(curr.data, end = \" \")\n",
    "                predecessor.right = curr #for pre order thread(connect) the last pre.right(i.e= None) to curr in else part \n",
    "                curr = curr.left\n"
   ]
  },
  {
   "cell_type": "code",
   "execution_count": 27,
   "metadata": {},
   "outputs": [],
   "source": [
    "root = Node(10)\n",
    "root.left = Node(11)\n",
    "root.left.left = Node(7)\n",
    "root.right = Node(9)\n",
    "root.right.left = Node(15)\n",
    "root.right.right = Node(8)"
   ]
  },
  {
   "cell_type": "code",
   "execution_count": 19,
   "metadata": {},
   "outputs": [
    {
     "name": "stdout",
     "output_type": "stream",
     "text": [
      "7 12 11 15 8 9 10 "
     ]
    }
   ],
   "source": [
    "morrisTraversalPostorder(root)"
   ]
  },
  {
   "cell_type": "code",
   "execution_count": 20,
   "metadata": {},
   "outputs": [
    {
     "name": "stdout",
     "output_type": "stream",
     "text": [
      "10 11 7 12 9 15 8 "
     ]
    }
   ],
   "source": [
    "morrisTraversalPreorder(root)"
   ]
  },
  {
   "cell_type": "code",
   "execution_count": 15,
   "metadata": {},
   "outputs": [],
   "source": [
    "root.left.right = Node(12)"
   ]
  },
  {
   "cell_type": "code",
   "execution_count": 18,
   "metadata": {},
   "outputs": [
    {
     "name": "stdout",
     "output_type": "stream",
     "text": [
      "7 11 12 10 15 9 8 "
     ]
    }
   ],
   "source": [
    "morrisTraversalInorder(root)"
   ]
  }
 ],
 "metadata": {
  "kernelspec": {
   "display_name": "Python 3",
   "language": "python",
   "name": "python3"
  },
  "language_info": {
   "codemirror_mode": {
    "name": "ipython",
    "version": 3
   },
   "file_extension": ".py",
   "mimetype": "text/x-python",
   "name": "python",
   "nbconvert_exporter": "python",
   "pygments_lexer": "ipython3",
   "version": "3.11.4"
  },
  "orig_nbformat": 4
 },
 "nbformat": 4,
 "nbformat_minor": 2
}
