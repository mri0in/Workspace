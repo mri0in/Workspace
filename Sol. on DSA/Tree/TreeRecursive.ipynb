{
 "cells": [
  {
   "cell_type": "code",
   "execution_count": 2,
   "metadata": {},
   "outputs": [],
   "source": [
    "class Node:\n",
    "    def __init__(self,data):\n",
    "        self.left = None\n",
    "        self.right = None\n",
    "        self.data = data"
   ]
  },
  {
   "cell_type": "code",
   "execution_count": 3,
   "metadata": {},
   "outputs": [],
   "source": [
    "def insert_Level_Order(arr,i,n):\n",
    "    root = None\n",
    "    if i<n:\n",
    "        root = Node(arr[i])\n",
    "        root.left = insert_Level_Order(arr,(i*2)+1,n)\n",
    "        root.right = insert_Level_Order(arr,(i*2)+2,n)\n",
    "    return root\n",
    "\n",
    "def in_Order_Traversal(root):\n",
    "    if root!= None:\n",
    "        in_Order_Traversal(root.left)\n",
    "        print(root.data, end=\" \")\n",
    "        in_Order_Traversal(root.right)\n",
    "\n",
    "\n"
   ]
  },
  {
   "cell_type": "code",
   "execution_count": 4,
   "metadata": {},
   "outputs": [],
   "source": [
    "arr = [1, 2, 3, 4, 5, 6, 6, 6, 6]\n",
    "n = len(arr)\n",
    "root = None # root has to be initialised to None inorder for recursion func. to come out of 'if' condition \n",
    "root = insert_Level_Order(arr, 0, n)"
   ]
  },
  {
   "cell_type": "code",
   "execution_count": 5,
   "metadata": {},
   "outputs": [
    {
     "name": "stdout",
     "output_type": "stream",
     "text": [
      "6 4 6 2 5 1 6 3 6 "
     ]
    }
   ],
   "source": [
    "in_Order_Traversal(root)"
   ]
  }
 ],
 "metadata": {
  "kernelspec": {
   "display_name": "Python 3",
   "language": "python",
   "name": "python3"
  },
  "language_info": {
   "codemirror_mode": {
    "name": "ipython",
    "version": 3
   },
   "file_extension": ".py",
   "mimetype": "text/x-python",
   "name": "python",
   "nbconvert_exporter": "python",
   "pygments_lexer": "ipython3",
   "version": "3.11.4"
  },
  "orig_nbformat": 4
 },
 "nbformat": 4,
 "nbformat_minor": 2
}
