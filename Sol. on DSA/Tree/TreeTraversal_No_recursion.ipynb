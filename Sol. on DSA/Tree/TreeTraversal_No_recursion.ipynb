{
 "cells": [
  {
   "cell_type": "code",
   "execution_count": 3,
   "metadata": {},
   "outputs": [],
   "source": [
    "class Node:\n",
    "    def __init__(self,data):\n",
    "        self.left = None\n",
    "        self.right = None\n",
    "        self.data = data\n",
    "\n"
   ]
  },
  {
   "cell_type": "code",
   "execution_count": 25,
   "metadata": {},
   "outputs": [],
   "source": [
    "def inOrder_Iterative(root):\n",
    "    Stack = []\n",
    "    \n",
    "    current = root\n",
    "    while (True):\n",
    "        if current != None:\n",
    "            Stack.append(current)\n",
    "            current = current.left\n",
    "        elif Stack:\n",
    "            current = Stack.pop()\n",
    "            print(current.data, end=\" \")\n",
    "            current = current.right\n",
    "        else:\n",
    "            break \n",
    "    print()\n",
    "           \n",
    "def preOrder_Iterative(root):\n",
    "    Stack = []\n",
    "    current = root\n",
    "    while True:\n",
    "        if current != None:\n",
    "            print(current.data, end=\" \")\n",
    "            Stack.append(current)\n",
    "            current = current.left\n",
    "        elif(Stack):   \n",
    "            current = Stack.pop()\n",
    "            current = current.right\n",
    "        else:\n",
    "            break\n",
    "    print()\n",
    "\n",
    "################ Using Queue to print level order of Tree has advantage over recurssion:############\n",
    "# Time Complexity: \"O(N)\" where N is the number of nodes in the binary tree.\n",
    "# Auxiliary Space: \"O(N)\" where N is the number of nodes in the binary tree.\n",
    "def printLevelOrderQueue(root):\n",
    "    if root is None:\n",
    "        return \n",
    "    \n",
    "    queue = []\n",
    "    queue.append(root)\n",
    "\n",
    "    while (len(queue)>0):\n",
    "        print(queue[0].data, end=\" \")\n",
    "        node = queue.pop(0)\n",
    "\n",
    "        if node.left is not None:\n",
    "            queue.append(node.left)\n",
    "        if node.right is not None:\n",
    "            queue.append(node.right)\n",
    "\n"
   ]
  },
  {
   "cell_type": "code",
   "execution_count": 19,
   "metadata": {},
   "outputs": [],
   "source": [
    "root = Node(1)\n",
    "root.left = Node(2)\n",
    "root.right = Node(3)\n",
    "root.left.left = Node(4)\n",
    "root.left.right = Node(5)"
   ]
  },
  {
   "cell_type": "code",
   "execution_count": 17,
   "metadata": {},
   "outputs": [
    {
     "name": "stdout",
     "output_type": "stream",
     "text": [
      "4 2 5 1 3 "
     ]
    }
   ],
   "source": [
    "inOrder_Iterative(root)"
   ]
  },
  {
   "cell_type": "code",
   "execution_count": 23,
   "metadata": {},
   "outputs": [
    {
     "name": "stdout",
     "output_type": "stream",
     "text": [
      "1 2 4 5 3 \n"
     ]
    }
   ],
   "source": [
    "preOrder_Iterative(root)"
   ]
  }
 ],
 "metadata": {
  "kernelspec": {
   "display_name": "Python 3",
   "language": "python",
   "name": "python3"
  },
  "language_info": {
   "codemirror_mode": {
    "name": "ipython",
    "version": 3
   },
   "file_extension": ".py",
   "mimetype": "text/x-python",
   "name": "python",
   "nbconvert_exporter": "python",
   "pygments_lexer": "ipython3",
   "version": "3.11.4"
  },
  "orig_nbformat": 4
 },
 "nbformat": 4,
 "nbformat_minor": 2
}
