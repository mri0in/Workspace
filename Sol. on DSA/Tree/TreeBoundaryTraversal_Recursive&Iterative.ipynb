{
 "cells": [
  {
   "cell_type": "code",
   "execution_count": 3,
   "metadata": {},
   "outputs": [],
   "source": [
    "class Node:\n",
    "    def __init__(self,data):\n",
    "        self.left = None\n",
    "        self.right = None\n",
    "        self.data = data"
   ]
  },
  {
   "cell_type": "code",
   "execution_count": 4,
   "metadata": {},
   "outputs": [],
   "source": [
    "def printBoundaryLeft(root):\n",
    "    if (root):#we carefrul with if-else cond. only one of the condition gets executed not both.\n",
    "        if (root.left):#here we just check if the root have left-node or not, we not shifting the control to left Node\n",
    "            print(root.data, end=\" \")#we print only if the node has a left-node attached to it so that it qualify as inner node on the boundary but not a leaf node, control is still on the passed root and not shifted to left node\n",
    "            printBoundaryLeft(root.left)\n",
    "        elif(root.right):#This line only gets exec when the shifted node don't have left node so it's then checks for right Node.\n",
    "            print(root.data, end=\" \")\n",
    "            printBoundaryLeft(root.right)\n",
    "\n",
    "def printBoundaryRight(root):\n",
    "    if (root):\n",
    "        if (root.right):\n",
    "            printBoundaryRight(root.right)\n",
    "            print(root.data, end=\" \")\n",
    "        elif(root.left):#will exec only when root has no right brach left to print so it check if left nodes are available to last boundary node\n",
    "            printBoundaryRight(root.left)\n",
    "            print(root.data)# this line will only get exec when there is left of left node available, as only that condition it will become a boundary node\n",
    "    \n",
    "def printLeaves(root):\n",
    "    if (root):# here a direct call is made recursively untill last left-node, no if-else condition are used to check if another node is attached/available\n",
    "        printLeaves(root.left)\n",
    "        if root.left is None and root.right is None:#Instead here we check if upcoming next node is None or not, yet we have not shifted the control to next node. For leaves node notice the position of use of 'if (root.left):'\n",
    "            print(root.data, end=\" \")\n",
    "        printLeaves(root.right)\n",
    "\n",
    "def printBoundary(root):\n",
    "    if(root):\n",
    "        print(root.data, end=\" \")\n",
    "        #Print the left boundary in top-down manner\n",
    "        printBoundaryLeft(root.left)\n",
    "\n",
    "        #Print all leaf nodes\n",
    "        printLeaves(root.left)\n",
    "        printLeaves(root.right)\n",
    "\n",
    "        #Print the right boundary in bottom-up manner\n",
    "        printBoundaryRight(root.right)\n",
    "\n"
   ]
  },
  {
   "cell_type": "code",
   "execution_count": 13,
   "metadata": {},
   "outputs": [],
   "source": [
    "\n",
    "\n",
    "def printLeftBoundary(root):\n",
    "    if root is None:\n",
    "        return\n",
    "    while(root):\n",
    "        if root.left or root.right:\n",
    "            print(root.data, end=\" \")\n",
    "        if root.left:\n",
    "            root = root.left\n",
    "        else:\n",
    "            root = root.right\n",
    "\n",
    "def printRightBoundary(root):\n",
    "    if root is None:\n",
    "        return\n",
    "    Stack = []\n",
    "    while(root is not None):\n",
    "        if root.left or root.right:\n",
    "            Stack.append(root.data)\n",
    "        if root.right:\n",
    "            root = root.right\n",
    "        else:\n",
    "            root = root.left\n",
    "            \n",
    "    fliped = Stack[::-1]\n",
    "    for i in fliped:\n",
    "        print(i, end = \" \")\n",
    "    \n",
    "\n",
    "def printLeavesIterative(root):\n",
    "    if (root):\n",
    "        queue = [] # use of queue/stack makes the printing of leaf node very easy it mimics the recursive function\n",
    "        queue.append(root)\n",
    "        while(queue):\n",
    "            curr = queue.pop()#pop deletes the last item of list\n",
    "            if (curr.left is None and curr.right is None):\n",
    "                print(curr.data, end=\" \")\n",
    "            if (curr.right is not None):#append right node before the left as after the POP last value(i.e left-node) of queue/stack will be executed first\n",
    "                queue.append(curr.right)\n",
    "            if (curr.left is not None):\n",
    "                queue.append(curr.left)\n",
    "\n",
    "def printBoundaryIterative(root):\n",
    "    if (root):\n",
    "        print(root.data, end=\" \")\n",
    "        printLeftBoundary(root.left)\n",
    "        printLeavesIterative(root)\n",
    "        printRightBoundary(root.right)\n"
   ]
  },
  {
   "cell_type": "code",
   "execution_count": null,
   "metadata": {},
   "outputs": [],
   "source": []
  },
  {
   "cell_type": "code",
   "execution_count": 9,
   "metadata": {},
   "outputs": [],
   "source": [
    "root = Node(20)\n",
    "root.left = Node(8)\n",
    "root.left.left = Node(4)\n",
    "root.left.right = Node(12)\n",
    "root.left.right.left = Node(10)\n",
    "root.left.right.right = Node(14)\n",
    "root.right = Node(22)\n",
    "root.right.right = Node(25)\n",
    "\n"
   ]
  },
  {
   "cell_type": "code",
   "execution_count": 10,
   "metadata": {},
   "outputs": [],
   "source": [
    "root.right.left = Node(10)\n",
    "root.right.left.left = Node(9)\n",
    "root.right.left.right = Node(16)\n",
    "root.right.right.left = Node(19)\n",
    "root.right.right.right = Node(15)\n"
   ]
  },
  {
   "cell_type": "code",
   "execution_count": 11,
   "metadata": {},
   "outputs": [
    {
     "name": "stdout",
     "output_type": "stream",
     "text": [
      "20 8 4 10 14 9 16 19 15 25 22 "
     ]
    }
   ],
   "source": [
    "printBoundary(root)"
   ]
  },
  {
   "cell_type": "code",
   "execution_count": 12,
   "metadata": {},
   "outputs": [
    {
     "name": "stdout",
     "output_type": "stream",
     "text": [
      "20 8 4 10 14 9 16 19 15 25 22 "
     ]
    }
   ],
   "source": [
    "printBoundaryIterative(root)"
   ]
  },
  {
   "cell_type": "code",
   "execution_count": 14,
   "metadata": {},
   "outputs": [
    {
     "name": "stdout",
     "output_type": "stream",
     "text": [
      "4 10 14 9 16 19 15 "
     ]
    }
   ],
   "source": [
    "printLeavesIterative(root)"
   ]
  },
  {
   "cell_type": "code",
   "execution_count": 13,
   "metadata": {},
   "outputs": [
    {
     "name": "stdout",
     "output_type": "stream",
     "text": [
      "8 "
     ]
    }
   ],
   "source": [
    "printLeftBoundary(root.left)"
   ]
  },
  {
   "cell_type": "code",
   "execution_count": 14,
   "metadata": {},
   "outputs": [
    {
     "name": "stdout",
     "output_type": "stream",
     "text": [
      "<built-in method pop of list object at 0x0000022CCE7B4D00>\n"
     ]
    }
   ],
   "source": [
    "printRightBoundary(root.right)"
   ]
  }
 ],
 "metadata": {
  "kernelspec": {
   "display_name": "Python 3",
   "language": "python",
   "name": "python3"
  },
  "language_info": {
   "codemirror_mode": {
    "name": "ipython",
    "version": 3
   },
   "file_extension": ".py",
   "mimetype": "text/x-python",
   "name": "python",
   "nbconvert_exporter": "python",
   "pygments_lexer": "ipython3",
   "version": "3.11.4"
  },
  "orig_nbformat": 4
 },
 "nbformat": 4,
 "nbformat_minor": 2
}
