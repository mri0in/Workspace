{
 "cells": [
  {
   "cell_type": "code",
   "execution_count": 2,
   "metadata": {},
   "outputs": [],
   "source": [
    "class Node:\n",
    "    def __init__(self,data):\n",
    "        self.left = None\n",
    "        self.right = None\n",
    "        self.data = data"
   ]
  },
  {
   "cell_type": "code",
   "execution_count": 100,
   "metadata": {},
   "outputs": [],
   "source": [
    "def levelOrderTraversal(root):\n",
    "    if root is None:\n",
    "        return \n",
    "    \n",
    "    queue = []\n",
    "    queue.append(root)\n",
    "\n",
    "    while (len(queue)>0):\n",
    "        print(queue[0].data, end=\" \")\n",
    "        node = queue.pop(0)\n",
    "\n",
    "        if node.left is not None:\n",
    "            queue.append(node.left)\n",
    "        if node.right is not None:\n",
    "            queue.append(node.right)\n",
    "\n",
    "#Insertion into binary Tree, inserting a new node where node is empty.\n",
    "def insertNode(root,key):\n",
    "    if root is None:\n",
    "        root = Node(key)\n",
    "        return\n",
    "    queue = []\n",
    "    queue.append(root)\n",
    "    while(len(queue)):\n",
    "        curr = queue.pop(0)#pop(0) deletes First postion of queue instead of last\n",
    "        if (not curr.left):\n",
    "            curr.left = Node(key)\n",
    "            break\n",
    "        else:\n",
    "            queue.append(curr.left)\n",
    "        if (not curr.right):\n",
    "            curr.right = Node(key)\n",
    "            break\n",
    "        else:\n",
    "            queue.append(curr.right)\n",
    "        \n",
    "#Question: find the root of tree to be deleted and replaced, & find the rightmost,deepest root of tree then delete it, and then replace this deepest root to the deleted above root. \n",
    "\n",
    "def deletion(root,key):\n",
    "    if root is None:\n",
    "        return\n",
    "    \n",
    "    key_node = None # This var stores the node addr to be deleted\n",
    "    queue = []\n",
    "    queue.append(root)\n",
    "    temp_node = None #Theis var loops and eventually stores the rightmost node addr.\n",
    "    while (queue):\n",
    "        temp_node = queue.pop(0)\n",
    "        if (temp_node.data == key):\n",
    "            key_node = temp_node # seraching the node to be deleted and storing it's root in keynode\n",
    "        if temp_node.left:\n",
    "            queue.append(temp_node.left)\n",
    "        if temp_node.right:\n",
    "            queue.append(temp_node.right) \n",
    "    if key_node:\n",
    "        del_key = temp_node.data\n",
    "        del_deepest_node(root,temp_node) #This Func deletes the Node passed\n",
    "        key_node.data = del_key #Here the right deepest node is assigned to the emptied node\n",
    "    else:\n",
    "        print(\"Given root not found\")\n",
    "\n",
    "def del_deepest_node(root,del_node):\n",
    "    if root == None:\n",
    "        return None\n",
    "    queue = []\n",
    "    queue.append(root)\n",
    "    while(queue):\n",
    "        curr = queue.pop(0)\n",
    "        if(curr == del_node):\n",
    "            curr = None\n",
    "            break\n",
    "        if curr.right:\n",
    "            if curr.right == del_node:\n",
    "                curr.right = None\n",
    "                break\n",
    "            else:\n",
    "                queue.append(curr.right)\n",
    "        if curr.left:\n",
    "            if curr.left == del_node:\n",
    "                curr.left = None\n",
    "                break\n",
    "            else:\n",
    "                queue.append(curr.left)\n",
    "\n",
    "\n",
    "def isNodeExist(root,key):\n",
    "    if root is None:\n",
    "        return 'Root cannot be Null.'\n",
    "    queue = []\n",
    "    queue.append(root)\n",
    "    isThere = False\n",
    "    while(queue):\n",
    "        curr = queue.pop(0)\n",
    "        if curr.data == key:\n",
    "            isThere = True\n",
    "        if curr.left:\n",
    "            if curr.left.data == key:\n",
    "                isThere = True\n",
    "            else:\n",
    "                queue.append(curr.left)\n",
    "        if curr.right:\n",
    "            if curr.right.data == key:\n",
    "                isThere = True\n",
    "            else:\n",
    "                queue.append(curr.right)\n",
    "    if isThere:\n",
    "        print(\"The Given Node\",key,\"is Present.\")\n",
    "    else:\n",
    "        print(\"The Given Node\",key,\"not-Found.\")\n",
    "\n",
    "def isNodeMoreThanOne(root,key):\n",
    "    if root is None:\n",
    "        return 'Root cannot be Null.'\n",
    "    queue = []\n",
    "    queue.append(root)\n",
    "    nodeCount = 0\n",
    "    while(queue):\n",
    "        curr = queue.pop(0)\n",
    "        if curr.data == key:\n",
    "            nodeCount +=1\n",
    "        if curr.left:\n",
    "            queue.append(curr.left)\n",
    "        if curr.right:\n",
    "            queue.append(curr.right)\n",
    "    if nodeCount:\n",
    "        if nodeCount ==1:\n",
    "            print(\"No the node\",key,\"is present Just Once.\")\n",
    "        else:\n",
    "            print(\"Yes the node\",key,\"is present\",nodeCount,\"Times.\")\n",
    "    else:\n",
    "        print(\"The Given Node\",key,\"not-Found.\")\n",
    "\n",
    "#Iterative method using queue and pop method to find the parent of a node.\n",
    "def findParent(root,key):\n",
    "    if root is None:\n",
    "        return 'Root cannot be Null.'\n",
    "    #Case in which root has the same value as the given node/key\n",
    "    if root.data == key:\n",
    "        return 'Root has no Parent.'\n",
    "    \n",
    "    # Use an empty queue and then append to it the root of the tree.\n",
    "    queue = []\n",
    "    queue.append(root)\n",
    "\n",
    "    #Run a while loop untill the queue is empty again.\n",
    "    while(queue):\n",
    "        #Pop the first i.e[0] value of the queue and make it as current node.\n",
    "        curr = queue.pop(0)\n",
    "        \n",
    "        #If the left/right child of the current node is equal to the passed node's value(key), then current node is the Parent node.\n",
    "        if (curr.left is not None and curr.left.data == key) or (curr.right is not None and curr.right.data == key):\n",
    "            #Print the parent root if the above condition matches.\n",
    "            print (\"The parent of\",key,\"is:\", curr.data)\n",
    "\n",
    "            #Break the while loop once the parent root is printed\n",
    "            break\n",
    "        #Append the left node of the current node into the queue \n",
    "        if curr.left:\n",
    "            queue.append(curr.left)\n",
    "        #Append the right node of the current node into the queue \n",
    "        if curr.right:\n",
    "            queue.append(curr.right)\n",
    "\n",
    "#Recursive Method to find the parent of a node.    \n",
    "def findParentRecursively(root,key):\n",
    "    if root is None:\n",
    "        return None\n",
    "    #Case if the root has the same value as the passed key.\n",
    "    elif(root.data == key):\n",
    "        print('Root has no Parent.')\n",
    "\n",
    "    #Checking if the left/right child of the node is equal to the passed node's value(key), then the node is the Parent node.\n",
    "    if (root.left is not None and root.left.data == key) or (root.right is not None and root.right.data == key):\n",
    "        print (\"The parent of\",key,\"is:\",root.data)\n",
    "        return\n",
    "    else:\n",
    "        #calling the same function recursively and passing the left and right node to traverse through each node of the tree.\n",
    "        findParentRecursively(root.left,key)    \n",
    "        findParentRecursively(root.right,key)\n",
    "\n",
    "def findSiblings(root,key):\n",
    "   \n",
    "    if root is None:\n",
    "        return 'Root cannot be Null.'\n",
    "    #Case in which root has the same value as the given node/key\n",
    "    if root.data == key:\n",
    "        return 'Root has no Sibling.'\n",
    "    flag = False\n",
    "\n",
    "    # Use an empty queue and then append to it the root of the tree.\n",
    "    queue = []\n",
    "    queue.append(root)\n",
    "\n",
    "    #Run a while loop untill the queue is empty again.\n",
    "    while(queue):\n",
    "        #Pop the first i.e[0] value of the queue and make it as current node.\n",
    "        curr = queue.pop(0)\n",
    "        \n",
    "        if curr.data == key:\n",
    "            flag = True\n",
    "\n",
    "        #If the left/right child of the current node is equal to the passed node's value(key), then current node is the Parent node.\n",
    "        if (curr.left is not None and curr.left.data == key and curr.right is not None):\n",
    "            #Print the parent root if the above condition matches.\n",
    "            print (\"The sibling of\",key,\"is:\", curr.right.data)\n",
    "\n",
    "            #Break the while loop once the parent root is printed\n",
    "            break\n",
    "        elif (curr.right is not None and curr.right.data == key and curr.left is not None):\n",
    "            #Print the parent root if the above condition matches.\n",
    "            print (\"The sibling of\",key,\"is:\", curr.left.data)\n",
    "\n",
    "            #Break the while loop once the parent root is printed\n",
    "            break\n",
    "\n",
    "        #Append the left node of the current node into the queue \n",
    "        if curr.left:\n",
    "            queue.append(curr.left)\n",
    "        #Append the right node of the current node into the queue \n",
    "        if curr.right:\n",
    "            queue.append(curr.right)\n",
    "    if (not flag):\n",
    "        print (\"The node\",key,\"not-found!\")\n",
    "    else:\n",
    "        print (\"The node\",key,\"may not have a sibling.\")\n",
    "\n",
    "\n",
    "def findSiblingsRecurs(root,key):\n",
    "\n",
    "    if (root is None and root.data == key):\n",
    "        return None\n",
    "\n",
    "    #Checking if the left/right child of the node is equal to the passed node's value(key), then the node is the Parent node.\n",
    "    if (root.left is not None and root.left.data == key and root.right is not None):\n",
    "        print (\"The sibling of\",key,\"is:\",root.right.data)\n",
    "        return\n",
    "    elif (root.right is not None and root.right.data == key and root.left is not None):\n",
    "        print (\"The sibling of\",key,\"is:\",root.left.data)\n",
    "        return\n",
    "\n",
    "    else:\n",
    "        #calling the same function recursively and passing the left and right node to traverse through each node of the tree.\n",
    "        findSiblingsRecurs(root.left,key)    \n",
    "        findSiblingsRecurs(root.right,key)\n",
    "\n",
    "\n",
    "\n",
    "\n"
   ]
  },
  {
   "cell_type": "code",
   "execution_count": 44,
   "metadata": {},
   "outputs": [],
   "source": [
    "root = Node(10)\n",
    "root.left = Node(11)\n",
    "root.left.left = Node(7)\n",
    "root.right = Node(9)\n",
    "root.right.left = Node(15)\n",
    "root.right.right = Node(8)\n",
    " \n"
   ]
  },
  {
   "cell_type": "code",
   "execution_count": 4,
   "metadata": {},
   "outputs": [
    {
     "name": "stdout",
     "output_type": "stream",
     "text": [
      "Levelorder traversal before insertion: 10 11 9 7 15 8 "
     ]
    }
   ],
   "source": [
    "print(\"Levelorder traversal before insertion:\", end = \" \")\n",
    "levelOrderTraversal(root)\n"
   ]
  },
  {
   "cell_type": "code",
   "execution_count": 5,
   "metadata": {},
   "outputs": [
    {
     "name": "stdout",
     "output_type": "stream",
     "text": [
      "\n",
      "Levelorder traversal after insertion: 10 11 9 7 12 15 8 "
     ]
    }
   ],
   "source": [
    "key = 12\n",
    "insertNode(root, key)\n",
    " \n",
    "print()\n",
    "print(\"Levelorder traversal after insertion:\", end = \" \")\n",
    "levelOrderTraversal(root)"
   ]
  },
  {
   "cell_type": "code",
   "execution_count": 12,
   "metadata": {},
   "outputs": [
    {
     "name": "stdout",
     "output_type": "stream",
     "text": [
      "Levelorder traversal before deletion: 10 11 9 7 15 8 \n",
      "Levelorder traversal after deletion: 10 8 9 7 15 "
     ]
    }
   ],
   "source": [
    "#******DELETION*******\n",
    "print(\"Levelorder traversal before deletion:\", end = \" \")\n",
    "levelOrderTraversal(root)\n",
    "key = 11\n",
    "deletion(root, key)\n",
    " \n",
    "print()\n",
    "print(\"Levelorder traversal after deletion:\", end = \" \")\n",
    "levelOrderTraversal(root)"
   ]
  },
  {
   "cell_type": "code",
   "execution_count": 31,
   "metadata": {},
   "outputs": [
    {
     "data": {
      "text/plain": [
       "'Root cannot be Null.'"
      ]
     },
     "execution_count": 31,
     "metadata": {},
     "output_type": "execute_result"
    }
   ],
   "source": [
    "#**********Is Given Node present.*******\n",
    "isNodeExist(None,8)"
   ]
  },
  {
   "cell_type": "code",
   "execution_count": 54,
   "metadata": {},
   "outputs": [],
   "source": [
    "root.right.left.left = Node(9)\n",
    "root.right.left.right = Node(15)\n",
    "root.left.right = Node(15)\n",
    "root.left.left.right = Node(15)"
   ]
  },
  {
   "cell_type": "code",
   "execution_count": 58,
   "metadata": {},
   "outputs": [
    {
     "name": "stdout",
     "output_type": "stream",
     "text": [
      "The Given Node 22 not-Found.\n"
     ]
    }
   ],
   "source": [
    "isNodeMoreThanOne(root,22)"
   ]
  },
  {
   "cell_type": "code",
   "execution_count": 15,
   "metadata": {},
   "outputs": [
    {
     "data": {
      "text/plain": [
       "'Root has no Parent.'"
      ]
     },
     "execution_count": 15,
     "metadata": {},
     "output_type": "execute_result"
    }
   ],
   "source": [
    "findParent(root,10)"
   ]
  },
  {
   "cell_type": "code",
   "execution_count": 59,
   "metadata": {},
   "outputs": [
    {
     "name": "stdout",
     "output_type": "stream",
     "text": [
      "The parent of 7 is: 11\n"
     ]
    }
   ],
   "source": [
    "findParentRecursively(root,7)"
   ]
  },
  {
   "cell_type": "code",
   "execution_count": 78,
   "metadata": {},
   "outputs": [
    {
     "name": "stdout",
     "output_type": "stream",
     "text": [
      "The node 7 may not have a sibling.\n"
     ]
    }
   ],
   "source": [
    "findSiblings(root,7)"
   ]
  },
  {
   "cell_type": "code",
   "execution_count": 101,
   "metadata": {},
   "outputs": [
    {
     "name": "stdout",
     "output_type": "stream",
     "text": [
      "The sibling of 9 is: 11\n"
     ]
    }
   ],
   "source": [
    "findSiblingsRecurs(root,9)"
   ]
  }
 ],
 "metadata": {
  "kernelspec": {
   "display_name": "Python 3",
   "language": "python",
   "name": "python3"
  },
  "language_info": {
   "codemirror_mode": {
    "name": "ipython",
    "version": 3
   },
   "file_extension": ".py",
   "mimetype": "text/x-python",
   "name": "python",
   "nbconvert_exporter": "python",
   "pygments_lexer": "ipython3",
   "version": "3.11.4"
  },
  "orig_nbformat": 4
 },
 "nbformat": 4,
 "nbformat_minor": 2
}
