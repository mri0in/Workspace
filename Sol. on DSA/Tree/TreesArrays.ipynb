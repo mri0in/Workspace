{
 "cells": [
  {
   "cell_type": "code",
   "execution_count": 6,
   "metadata": {},
   "outputs": [],
   "source": [
    "'''Tree using Arrays, a continuous array is used where at T[0] root value is stored\n",
    "and subsequently {2*root} spaces is used one for left subtree{2*root+1} and the other for right subtree{2*root+2}. \n",
    "'''\n",
    "tree = [None]*10\n",
    "def root(key):\n",
    "    if tree[0] != None:\n",
    "        print(\"Tree already had root\")\n",
    "    else:\n",
    "        tree[0] = key\n",
    "\n",
    "def set_left(key,parent):\n",
    "\tif tree[parent] == None:\n",
    "\t\t\tprint(\"can't set value at:\", parent*2+1,\"parent not found.\")\n",
    "\telse:\n",
    "\t\ttree[(parent*2)+1] = key\n",
    "def set_right(key,parent):\n",
    "\tif tree[parent] == None:\n",
    "\t\t\tprint(\"can't set value at:\", parent*2+1,\"parent not found.\")\n",
    "\telse:\n",
    "\t\ttree[(parent*2)+2] = key\n",
    "\n",
    "def print_tree():\n",
    "\tfor i in range(10):\n",
    "\t\tif tree[i]!=None:\n",
    "\t\t\tprint(tree[i],end=\" \")\n",
    "\t\telse:\n",
    "\t\t\tprint('-', end=\" \")\n",
    "\t#print()\n",
    "\n",
    "\n",
    "\n"
   ]
  },
  {
   "cell_type": "code",
   "execution_count": 7,
   "metadata": {},
   "outputs": [],
   "source": [
    "root('A')\n",
    "set_left('B', 0)\n",
    "set_right('C', 0)\n",
    "set_left('D', 1)\n",
    "set_right('E', 1)\n",
    "set_right('F', 2)"
   ]
  },
  {
   "cell_type": "code",
   "execution_count": 11,
   "metadata": {},
   "outputs": [],
   "source": [
    "set_right('L', 2)"
   ]
  },
  {
   "cell_type": "code",
   "execution_count": 12,
   "metadata": {},
   "outputs": [
    {
     "name": "stdout",
     "output_type": "stream",
     "text": [
      "A B C D E K L - - - "
     ]
    }
   ],
   "source": [
    "print_tree()"
   ]
  }
 ],
 "metadata": {
  "kernelspec": {
   "display_name": "Python 3",
   "language": "python",
   "name": "python3"
  },
  "language_info": {
   "codemirror_mode": {
    "name": "ipython",
    "version": 3
   },
   "file_extension": ".py",
   "mimetype": "text/x-python",
   "name": "python",
   "nbconvert_exporter": "python",
   "pygments_lexer": "ipython3",
   "version": "3.11.4"
  },
  "orig_nbformat": 4
 },
 "nbformat": 4,
 "nbformat_minor": 2
}
